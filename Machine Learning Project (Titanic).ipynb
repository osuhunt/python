{
 "cells": [
  {
   "cell_type": "code",
   "execution_count": 1,
   "metadata": {},
   "outputs": [],
   "source": [
    "import pandas as pd\n",
    "import numpy as np\n",
    "import sklearn as sk\n",
    "import seaborn as sns\n",
    "import re\n",
    "import itertools\n",
    "\n",
    "from sklearn.tree import DecisionTreeClassifier as dt\n",
    "from sklearn.tree import export_graphviz\n",
    "from sklearn.ensemble import GradientBoostingClassifier, RandomForestClassifier, BaggingClassifier\n",
    "from sklearn.preprocessing import OneHotEncoder, LabelEncoder\n",
    "from sklearn.model_selection import train_test_split, cross_val_score, cross_val_predict\n",
    "from sklearn.metrics import confusion_matrix, classification_report, roc_auc_score, roc_curve, auc, accuracy_score\n",
    "\n",
    "import graphviz\n",
    "\n",
    "from matplotlib import pyplot as plt\n",
    "%matplotlib inline"
   ]
  },
  {
   "cell_type": "code",
   "execution_count": 2,
   "metadata": {},
   "outputs": [],
   "source": [
    "def plot_confusion_matrix(cm, classes,\n",
    "                          normalize=False,\n",
    "                          title='Confusion matrix',\n",
    "                          cmap=plt.cm.Blues):\n",
    "    \"\"\"\n",
    "    This function prints and plots the confusion matrix.\n",
    "    Normalization can be applied by setting `normalize=True`.\n",
    "    \"\"\"\n",
    "    plt.imshow(cm, interpolation='nearest', cmap=cmap)\n",
    "    plt.title(title)\n",
    "    plt.colorbar()\n",
    "    tick_marks = np.arange(len(classes))\n",
    "    plt.xticks(tick_marks, classes, rotation=45)\n",
    "    plt.yticks(tick_marks, classes)\n",
    "\n",
    "    fmt = '.2f' if normalize else 'd'\n",
    "    thresh = cm.max() / 2.\n",
    "    for i, j in itertools.product(range(cm.shape[0]), range(cm.shape[1])):\n",
    "        plt.text(j, i, format(cm[i, j], fmt),\n",
    "                 horizontalalignment=\"center\",\n",
    "                 color=\"white\" if cm[i, j] > thresh else \"black\")\n",
    "\n",
    "    plt.ylabel('True label')\n",
    "    plt.xlabel('Predicted label')\n",
    "    plt.tight_layout()"
   ]
  },
  {
   "cell_type": "code",
   "execution_count": 3,
   "metadata": {},
   "outputs": [],
   "source": [
    "master_titanic_train = pd.read_csv('train.csv')"
   ]
  },
  {
   "cell_type": "code",
   "execution_count": 4,
   "metadata": {},
   "outputs": [
    {
     "data": {
      "text/html": [
       "<div>\n",
       "<style scoped>\n",
       "    .dataframe tbody tr th:only-of-type {\n",
       "        vertical-align: middle;\n",
       "    }\n",
       "\n",
       "    .dataframe tbody tr th {\n",
       "        vertical-align: top;\n",
       "    }\n",
       "\n",
       "    .dataframe thead th {\n",
       "        text-align: right;\n",
       "    }\n",
       "</style>\n",
       "<table border=\"1\" class=\"dataframe\">\n",
       "  <thead>\n",
       "    <tr style=\"text-align: right;\">\n",
       "      <th></th>\n",
       "      <th>PassengerId</th>\n",
       "      <th>Survived</th>\n",
       "      <th>Pclass</th>\n",
       "      <th>Name</th>\n",
       "      <th>Sex</th>\n",
       "      <th>Age</th>\n",
       "      <th>SibSp</th>\n",
       "      <th>Parch</th>\n",
       "      <th>Ticket</th>\n",
       "      <th>Fare</th>\n",
       "      <th>Cabin</th>\n",
       "      <th>Embarked</th>\n",
       "    </tr>\n",
       "  </thead>\n",
       "  <tbody>\n",
       "    <tr>\n",
       "      <th>0</th>\n",
       "      <td>1</td>\n",
       "      <td>0</td>\n",
       "      <td>3</td>\n",
       "      <td>Braund, Mr. Owen Harris</td>\n",
       "      <td>male</td>\n",
       "      <td>22.0</td>\n",
       "      <td>1</td>\n",
       "      <td>0</td>\n",
       "      <td>A/5 21171</td>\n",
       "      <td>7.2500</td>\n",
       "      <td>NaN</td>\n",
       "      <td>S</td>\n",
       "    </tr>\n",
       "    <tr>\n",
       "      <th>1</th>\n",
       "      <td>2</td>\n",
       "      <td>1</td>\n",
       "      <td>1</td>\n",
       "      <td>Cumings, Mrs. John Bradley (Florence Briggs Th...</td>\n",
       "      <td>female</td>\n",
       "      <td>38.0</td>\n",
       "      <td>1</td>\n",
       "      <td>0</td>\n",
       "      <td>PC 17599</td>\n",
       "      <td>71.2833</td>\n",
       "      <td>C85</td>\n",
       "      <td>C</td>\n",
       "    </tr>\n",
       "    <tr>\n",
       "      <th>2</th>\n",
       "      <td>3</td>\n",
       "      <td>1</td>\n",
       "      <td>3</td>\n",
       "      <td>Heikkinen, Miss. Laina</td>\n",
       "      <td>female</td>\n",
       "      <td>26.0</td>\n",
       "      <td>0</td>\n",
       "      <td>0</td>\n",
       "      <td>STON/O2. 3101282</td>\n",
       "      <td>7.9250</td>\n",
       "      <td>NaN</td>\n",
       "      <td>S</td>\n",
       "    </tr>\n",
       "    <tr>\n",
       "      <th>3</th>\n",
       "      <td>4</td>\n",
       "      <td>1</td>\n",
       "      <td>1</td>\n",
       "      <td>Futrelle, Mrs. Jacques Heath (Lily May Peel)</td>\n",
       "      <td>female</td>\n",
       "      <td>35.0</td>\n",
       "      <td>1</td>\n",
       "      <td>0</td>\n",
       "      <td>113803</td>\n",
       "      <td>53.1000</td>\n",
       "      <td>C123</td>\n",
       "      <td>S</td>\n",
       "    </tr>\n",
       "    <tr>\n",
       "      <th>4</th>\n",
       "      <td>5</td>\n",
       "      <td>0</td>\n",
       "      <td>3</td>\n",
       "      <td>Allen, Mr. William Henry</td>\n",
       "      <td>male</td>\n",
       "      <td>35.0</td>\n",
       "      <td>0</td>\n",
       "      <td>0</td>\n",
       "      <td>373450</td>\n",
       "      <td>8.0500</td>\n",
       "      <td>NaN</td>\n",
       "      <td>S</td>\n",
       "    </tr>\n",
       "  </tbody>\n",
       "</table>\n",
       "</div>"
      ],
      "text/plain": [
       "   PassengerId  Survived  Pclass  \\\n",
       "0            1         0       3   \n",
       "1            2         1       1   \n",
       "2            3         1       3   \n",
       "3            4         1       1   \n",
       "4            5         0       3   \n",
       "\n",
       "                                                Name     Sex   Age  SibSp  \\\n",
       "0                            Braund, Mr. Owen Harris    male  22.0      1   \n",
       "1  Cumings, Mrs. John Bradley (Florence Briggs Th...  female  38.0      1   \n",
       "2                             Heikkinen, Miss. Laina  female  26.0      0   \n",
       "3       Futrelle, Mrs. Jacques Heath (Lily May Peel)  female  35.0      1   \n",
       "4                           Allen, Mr. William Henry    male  35.0      0   \n",
       "\n",
       "   Parch            Ticket     Fare Cabin Embarked  \n",
       "0      0         A/5 21171   7.2500   NaN        S  \n",
       "1      0          PC 17599  71.2833   C85        C  \n",
       "2      0  STON/O2. 3101282   7.9250   NaN        S  \n",
       "3      0            113803  53.1000  C123        S  \n",
       "4      0            373450   8.0500   NaN        S  "
      ]
     },
     "execution_count": 4,
     "metadata": {},
     "output_type": "execute_result"
    }
   ],
   "source": [
    "master_titanic_train.head(5)"
   ]
  },
  {
   "cell_type": "code",
   "execution_count": 5,
   "metadata": {},
   "outputs": [
    {
     "data": {
      "text/plain": [
       "Index(['PassengerId', 'Survived', 'Pclass', 'Name', 'Sex', 'Age', 'SibSp',\n",
       "       'Parch', 'Ticket', 'Fare', 'Cabin', 'Embarked'],\n",
       "      dtype='object')"
      ]
     },
     "execution_count": 5,
     "metadata": {},
     "output_type": "execute_result"
    }
   ],
   "source": [
    "master_titanic_train.keys()"
   ]
  },
  {
   "cell_type": "code",
   "execution_count": 6,
   "metadata": {},
   "outputs": [
    {
     "name": "stdout",
     "output_type": "stream",
     "text": [
      "Numerical features:\n",
      "Age     float64\n",
      "Fare    float64\n",
      "dtype: object\n"
     ]
    }
   ],
   "source": [
    "types_master_train = master_titanic_train.dtypes\n",
    "num_values = types_master_train[(types_master_train == float)]\n",
    "\n",
    "print(\"Numerical features:\")\n",
    "print(num_values)\n"
   ]
  },
  {
   "cell_type": "code",
   "execution_count": 7,
   "metadata": {},
   "outputs": [
    {
     "data": {
      "text/html": [
       "<div>\n",
       "<style scoped>\n",
       "    .dataframe tbody tr th:only-of-type {\n",
       "        vertical-align: middle;\n",
       "    }\n",
       "\n",
       "    .dataframe tbody tr th {\n",
       "        vertical-align: top;\n",
       "    }\n",
       "\n",
       "    .dataframe thead th {\n",
       "        text-align: right;\n",
       "    }\n",
       "</style>\n",
       "<table border=\"1\" class=\"dataframe\">\n",
       "  <thead>\n",
       "    <tr style=\"text-align: right;\">\n",
       "      <th></th>\n",
       "      <th>Age</th>\n",
       "      <th>Fare</th>\n",
       "    </tr>\n",
       "  </thead>\n",
       "  <tbody>\n",
       "    <tr>\n",
       "      <th>count</th>\n",
       "      <td>714.000000</td>\n",
       "      <td>891.000000</td>\n",
       "    </tr>\n",
       "    <tr>\n",
       "      <th>mean</th>\n",
       "      <td>29.699118</td>\n",
       "      <td>32.204208</td>\n",
       "    </tr>\n",
       "    <tr>\n",
       "      <th>std</th>\n",
       "      <td>14.526497</td>\n",
       "      <td>49.693429</td>\n",
       "    </tr>\n",
       "    <tr>\n",
       "      <th>min</th>\n",
       "      <td>0.420000</td>\n",
       "      <td>0.000000</td>\n",
       "    </tr>\n",
       "    <tr>\n",
       "      <th>25%</th>\n",
       "      <td>20.125000</td>\n",
       "      <td>7.910400</td>\n",
       "    </tr>\n",
       "    <tr>\n",
       "      <th>50%</th>\n",
       "      <td>28.000000</td>\n",
       "      <td>14.454200</td>\n",
       "    </tr>\n",
       "    <tr>\n",
       "      <th>75%</th>\n",
       "      <td>38.000000</td>\n",
       "      <td>31.000000</td>\n",
       "    </tr>\n",
       "    <tr>\n",
       "      <th>max</th>\n",
       "      <td>80.000000</td>\n",
       "      <td>512.329200</td>\n",
       "    </tr>\n",
       "  </tbody>\n",
       "</table>\n",
       "</div>"
      ],
      "text/plain": [
       "              Age        Fare\n",
       "count  714.000000  891.000000\n",
       "mean    29.699118   32.204208\n",
       "std     14.526497   49.693429\n",
       "min      0.420000    0.000000\n",
       "25%     20.125000    7.910400\n",
       "50%     28.000000   14.454200\n",
       "75%     38.000000   31.000000\n",
       "max     80.000000  512.329200"
      ]
     },
     "execution_count": 7,
     "metadata": {},
     "output_type": "execute_result"
    }
   ],
   "source": [
    "master_titanic_train[[\"Age\", \"Fare\"]].describe()"
   ]
  },
  {
   "cell_type": "code",
   "execution_count": 8,
   "metadata": {},
   "outputs": [
    {
     "data": {
      "text/html": [
       "<div>\n",
       "<style scoped>\n",
       "    .dataframe tbody tr th:only-of-type {\n",
       "        vertical-align: middle;\n",
       "    }\n",
       "\n",
       "    .dataframe tbody tr th {\n",
       "        vertical-align: top;\n",
       "    }\n",
       "\n",
       "    .dataframe thead th {\n",
       "        text-align: right;\n",
       "    }\n",
       "</style>\n",
       "<table border=\"1\" class=\"dataframe\">\n",
       "  <thead>\n",
       "    <tr style=\"text-align: right;\">\n",
       "      <th></th>\n",
       "      <th>PassengerId</th>\n",
       "      <th>Survived</th>\n",
       "      <th>Pclass</th>\n",
       "      <th>Name</th>\n",
       "      <th>Sex</th>\n",
       "      <th>Age</th>\n",
       "      <th>SibSp</th>\n",
       "      <th>Parch</th>\n",
       "      <th>Ticket</th>\n",
       "      <th>Fare</th>\n",
       "      <th>Cabin</th>\n",
       "      <th>Embarked</th>\n",
       "    </tr>\n",
       "  </thead>\n",
       "  <tbody>\n",
       "    <tr>\n",
       "      <th>0</th>\n",
       "      <td>1</td>\n",
       "      <td>0</td>\n",
       "      <td>3</td>\n",
       "      <td>Braund, Mr. Owen Harris</td>\n",
       "      <td>male</td>\n",
       "      <td>22.0</td>\n",
       "      <td>1</td>\n",
       "      <td>0</td>\n",
       "      <td>A/5 21171</td>\n",
       "      <td>7.2500</td>\n",
       "      <td>NaN</td>\n",
       "      <td>S</td>\n",
       "    </tr>\n",
       "    <tr>\n",
       "      <th>1</th>\n",
       "      <td>2</td>\n",
       "      <td>1</td>\n",
       "      <td>1</td>\n",
       "      <td>Cumings, Mrs. John Bradley (Florence Briggs Th...</td>\n",
       "      <td>female</td>\n",
       "      <td>38.0</td>\n",
       "      <td>1</td>\n",
       "      <td>0</td>\n",
       "      <td>PC 17599</td>\n",
       "      <td>71.2833</td>\n",
       "      <td>C85</td>\n",
       "      <td>C</td>\n",
       "    </tr>\n",
       "    <tr>\n",
       "      <th>2</th>\n",
       "      <td>3</td>\n",
       "      <td>1</td>\n",
       "      <td>3</td>\n",
       "      <td>Heikkinen, Miss. Laina</td>\n",
       "      <td>female</td>\n",
       "      <td>26.0</td>\n",
       "      <td>0</td>\n",
       "      <td>0</td>\n",
       "      <td>STON/O2. 3101282</td>\n",
       "      <td>7.9250</td>\n",
       "      <td>NaN</td>\n",
       "      <td>S</td>\n",
       "    </tr>\n",
       "  </tbody>\n",
       "</table>\n",
       "</div>"
      ],
      "text/plain": [
       "   PassengerId  Survived  Pclass  \\\n",
       "0            1         0       3   \n",
       "1            2         1       1   \n",
       "2            3         1       3   \n",
       "\n",
       "                                                Name     Sex   Age  SibSp  \\\n",
       "0                            Braund, Mr. Owen Harris    male  22.0      1   \n",
       "1  Cumings, Mrs. John Bradley (Florence Briggs Th...  female  38.0      1   \n",
       "2                             Heikkinen, Miss. Laina  female  26.0      0   \n",
       "\n",
       "   Parch            Ticket     Fare Cabin Embarked  \n",
       "0      0         A/5 21171   7.2500   NaN        S  \n",
       "1      0          PC 17599  71.2833   C85        C  \n",
       "2      0  STON/O2. 3101282   7.9250   NaN        S  "
      ]
     },
     "execution_count": 8,
     "metadata": {},
     "output_type": "execute_result"
    }
   ],
   "source": [
    "master_titanic_train.head(3)"
   ]
  },
  {
   "cell_type": "code",
   "execution_count": 9,
   "metadata": {},
   "outputs": [
    {
     "name": "stdout",
     "output_type": "stream",
     "text": [
      "PassengerId      0\n",
      "Survived         0\n",
      "Pclass           0\n",
      "Name             0\n",
      "Sex              0\n",
      "Age            177\n",
      "SibSp            0\n",
      "Parch            0\n",
      "Ticket           0\n",
      "Fare             0\n",
      "Cabin          687\n",
      "Embarked         2\n",
      "dtype: int64\n"
     ]
    }
   ],
   "source": [
    "# checking for NANs\n",
    "\n",
    "print(pd.isnull(master_titanic_train).sum()) "
   ]
  },
  {
   "cell_type": "code",
   "execution_count": 10,
   "metadata": {},
   "outputs": [
    {
     "name": "stderr",
     "output_type": "stream",
     "text": [
      "C:\\ProgramData\\Anaconda3\\lib\\site-packages\\scipy\\stats\\stats.py:1713: FutureWarning: Using a non-tuple sequence for multidimensional indexing is deprecated; use `arr[tuple(seq)]` instead of `arr[seq]`. In the future this will be interpreted as an array index, `arr[np.array(seq)]`, which will result either in an error or a different result.\n",
      "  return np.add.reduce(sorted[indexer] * weights, axis=axis) / sumval\n"
     ]
    },
    {
     "data": {
      "text/plain": [
       "<matplotlib.axes._subplots.AxesSubplot at 0x288298b3748>"
      ]
     },
     "execution_count": 10,
     "metadata": {},
     "output_type": "execute_result"
    },
    {
     "data": {
      "image/png": "[encoded data removed]",
      "text/plain": [
       "<Figure size 432x288 with 1 Axes>"
      ]
     },
     "metadata": {
      "needs_background": "light"
     },
     "output_type": "display_data"
    }
   ],
   "source": [
    "t_data = master_titanic_train.copy()\n",
    "t_data.dropna(inplace = True)\n",
    "sns.distplot(t_data[\"Age\"])"
   ]
  },
  {
   "cell_type": "code",
   "execution_count": 11,
   "metadata": {},
   "outputs": [
    {
     "data": {
      "image/png": "[encoded data removed]",
      "text/plain": [
       "<Figure size 432x288 with 1 Axes>"
      ]
     },
     "metadata": {
      "needs_background": "light"
     },
     "output_type": "display_data"
    },
    {
     "name": "stdout",
     "output_type": "stream",
     "text": [
      "Total people survived is: 123\n",
      "Proportion of Females who survived:\n",
      "0.6666666666666666\n",
      "Proportion of Males who survived:\n",
      "0.3333333333333333\n"
     ]
    }
   ],
   "source": [
    "sns.barplot(x=\"Sex\", y=\"Survived\", data=t_data)\n",
    "plt.title(\"Distribution of Survival based on Gender\")\n",
    "plt.show()\n",
    "\n",
    "total_survived_females = t_data[t_data.Sex == \"female\"][\"Survived\"].sum()\n",
    "total_survived_males = t_data[t_data.Sex == \"male\"][\"Survived\"].sum()\n",
    "\n",
    "print(\"Total people survived is: \" + str((total_survived_females + total_survived_males)))\n",
    "print(\"Proportion of Females who survived:\") \n",
    "print(total_survived_females/(total_survived_females + total_survived_males))\n",
    "print(\"Proportion of Males who survived:\")\n",
    "print(total_survived_males/(total_survived_females + total_survived_males))"
   ]
  },
  {
   "cell_type": "code",
   "execution_count": 12,
   "metadata": {},
   "outputs": [],
   "source": [
    "cabin = {\"Cabin\":\"U\"}\n",
    "t_data = master_titanic_train.fillna(value=cabin)"
   ]
  },
  {
   "cell_type": "code",
   "execution_count": 13,
   "metadata": {},
   "outputs": [],
   "source": [
    "t_data[\"Age\"].fillna(t_data[\"Age\"].median(), inplace = True)"
   ]
  },
  {
   "cell_type": "code",
   "execution_count": 14,
   "metadata": {},
   "outputs": [],
   "source": [
    "t_data[\"Embarked\"].fillna(\"S\", inplace = True)"
   ]
  },
  {
   "cell_type": "code",
   "execution_count": 15,
   "metadata": {},
   "outputs": [],
   "source": [
    "t_data['Cabin'] = t_data['Cabin'].apply(lambda x: x[0] if x != 'U' else 'U')"
   ]
  },
  {
   "cell_type": "code",
   "execution_count": 16,
   "metadata": {},
   "outputs": [],
   "source": [
    "t_data['Salutation'] = t_data['Name'].apply(lambda x: re.findall(r'\\b\\w+[.]', x)[0])"
   ]
  },
  {
   "cell_type": "code",
   "execution_count": 17,
   "metadata": {},
   "outputs": [],
   "source": [
    "t_data['Pclass'] = t_data['Pclass'].astype('category')\n",
    "t_data['Sex'] = t_data['Sex'].astype('category')\n",
    "t_data['Cabin'] = t_data['Cabin'].astype('category')\n",
    "t_data['Embarked'] = t_data['Embarked'].astype('category')\n",
    "t_data['Salutation'] = t_data['Salutation'].astype('category')"
   ]
  },
  {
   "cell_type": "code",
   "execution_count": 18,
   "metadata": {},
   "outputs": [
    {
     "data": {
      "text/html": [
       "<div>\n",
       "<style scoped>\n",
       "    .dataframe tbody tr th:only-of-type {\n",
       "        vertical-align: middle;\n",
       "    }\n",
       "\n",
       "    .dataframe tbody tr th {\n",
       "        vertical-align: top;\n",
       "    }\n",
       "\n",
       "    .dataframe thead th {\n",
       "        text-align: right;\n",
       "    }\n",
       "</style>\n",
       "<table border=\"1\" class=\"dataframe\">\n",
       "  <thead>\n",
       "    <tr style=\"text-align: right;\">\n",
       "      <th></th>\n",
       "      <th>PassengerId</th>\n",
       "      <th>Survived</th>\n",
       "      <th>Pclass</th>\n",
       "      <th>Name</th>\n",
       "      <th>Sex</th>\n",
       "      <th>Age</th>\n",
       "      <th>SibSp</th>\n",
       "      <th>Parch</th>\n",
       "      <th>Ticket</th>\n",
       "      <th>Fare</th>\n",
       "      <th>Cabin</th>\n",
       "      <th>Embarked</th>\n",
       "      <th>Salutation</th>\n",
       "    </tr>\n",
       "  </thead>\n",
       "  <tbody>\n",
       "    <tr>\n",
       "      <th>0</th>\n",
       "      <td>1</td>\n",
       "      <td>0</td>\n",
       "      <td>3</td>\n",
       "      <td>Braund, Mr. Owen Harris</td>\n",
       "      <td>male</td>\n",
       "      <td>22.0</td>\n",
       "      <td>1</td>\n",
       "      <td>0</td>\n",
       "      <td>A/5 21171</td>\n",
       "      <td>7.2500</td>\n",
       "      <td>U</td>\n",
       "      <td>S</td>\n",
       "      <td>Mr.</td>\n",
       "    </tr>\n",
       "    <tr>\n",
       "      <th>1</th>\n",
       "      <td>2</td>\n",
       "      <td>1</td>\n",
       "      <td>1</td>\n",
       "      <td>Cumings, Mrs. John Bradley (Florence Briggs Th...</td>\n",
       "      <td>female</td>\n",
       "      <td>38.0</td>\n",
       "      <td>1</td>\n",
       "      <td>0</td>\n",
       "      <td>PC 17599</td>\n",
       "      <td>71.2833</td>\n",
       "      <td>C</td>\n",
       "      <td>C</td>\n",
       "      <td>Mrs.</td>\n",
       "    </tr>\n",
       "    <tr>\n",
       "      <th>2</th>\n",
       "      <td>3</td>\n",
       "      <td>1</td>\n",
       "      <td>3</td>\n",
       "      <td>Heikkinen, Miss. Laina</td>\n",
       "      <td>female</td>\n",
       "      <td>26.0</td>\n",
       "      <td>0</td>\n",
       "      <td>0</td>\n",
       "      <td>STON/O2. 3101282</td>\n",
       "      <td>7.9250</td>\n",
       "      <td>U</td>\n",
       "      <td>S</td>\n",
       "      <td>Miss.</td>\n",
       "    </tr>\n",
       "  </tbody>\n",
       "</table>\n",
       "</div>"
      ],
      "text/plain": [
       "   PassengerId  Survived Pclass  \\\n",
       "0            1         0      3   \n",
       "1            2         1      1   \n",
       "2            3         1      3   \n",
       "\n",
       "                                                Name     Sex   Age  SibSp  \\\n",
       "0                            Braund, Mr. Owen Harris    male  22.0      1   \n",
       "1  Cumings, Mrs. John Bradley (Florence Briggs Th...  female  38.0      1   \n",
       "2                             Heikkinen, Miss. Laina  female  26.0      0   \n",
       "\n",
       "   Parch            Ticket     Fare Cabin Embarked Salutation  \n",
       "0      0         A/5 21171   7.2500     U        S        Mr.  \n",
       "1      0          PC 17599  71.2833     C        C       Mrs.  \n",
       "2      0  STON/O2. 3101282   7.9250     U        S      Miss.  "
      ]
     },
     "execution_count": 18,
     "metadata": {},
     "output_type": "execute_result"
    }
   ],
   "source": [
    "t_data.head(3)"
   ]
  },
  {
   "cell_type": "code",
   "execution_count": 19,
   "metadata": {},
   "outputs": [],
   "source": [
    "t_data = t_data.drop(['Name','Ticket'], axis=1)"
   ]
  },
  {
   "cell_type": "code",
   "execution_count": 20,
   "metadata": {},
   "outputs": [
    {
     "data": {
      "text/html": [
       "<div>\n",
       "<style scoped>\n",
       "    .dataframe tbody tr th:only-of-type {\n",
       "        vertical-align: middle;\n",
       "    }\n",
       "\n",
       "    .dataframe tbody tr th {\n",
       "        vertical-align: top;\n",
       "    }\n",
       "\n",
       "    .dataframe thead th {\n",
       "        text-align: right;\n",
       "    }\n",
       "</style>\n",
       "<table border=\"1\" class=\"dataframe\">\n",
       "  <thead>\n",
       "    <tr style=\"text-align: right;\">\n",
       "      <th></th>\n",
       "      <th>PassengerId</th>\n",
       "      <th>Survived</th>\n",
       "      <th>Pclass</th>\n",
       "      <th>Sex</th>\n",
       "      <th>Age</th>\n",
       "      <th>SibSp</th>\n",
       "      <th>Parch</th>\n",
       "      <th>Fare</th>\n",
       "      <th>Cabin</th>\n",
       "      <th>Embarked</th>\n",
       "      <th>Salutation</th>\n",
       "    </tr>\n",
       "  </thead>\n",
       "  <tbody>\n",
       "    <tr>\n",
       "      <th>0</th>\n",
       "      <td>1</td>\n",
       "      <td>0</td>\n",
       "      <td>3</td>\n",
       "      <td>male</td>\n",
       "      <td>22.0</td>\n",
       "      <td>1</td>\n",
       "      <td>0</td>\n",
       "      <td>7.2500</td>\n",
       "      <td>U</td>\n",
       "      <td>S</td>\n",
       "      <td>Mr.</td>\n",
       "    </tr>\n",
       "    <tr>\n",
       "      <th>1</th>\n",
       "      <td>2</td>\n",
       "      <td>1</td>\n",
       "      <td>1</td>\n",
       "      <td>female</td>\n",
       "      <td>38.0</td>\n",
       "      <td>1</td>\n",
       "      <td>0</td>\n",
       "      <td>71.2833</td>\n",
       "      <td>C</td>\n",
       "      <td>C</td>\n",
       "      <td>Mrs.</td>\n",
       "    </tr>\n",
       "    <tr>\n",
       "      <th>2</th>\n",
       "      <td>3</td>\n",
       "      <td>1</td>\n",
       "      <td>3</td>\n",
       "      <td>female</td>\n",
       "      <td>26.0</td>\n",
       "      <td>0</td>\n",
       "      <td>0</td>\n",
       "      <td>7.9250</td>\n",
       "      <td>U</td>\n",
       "      <td>S</td>\n",
       "      <td>Miss.</td>\n",
       "    </tr>\n",
       "  </tbody>\n",
       "</table>\n",
       "</div>"
      ],
      "text/plain": [
       "   PassengerId  Survived Pclass     Sex   Age  SibSp  Parch     Fare Cabin  \\\n",
       "0            1         0      3    male  22.0      1      0   7.2500     U   \n",
       "1            2         1      1  female  38.0      1      0  71.2833     C   \n",
       "2            3         1      3  female  26.0      0      0   7.9250     U   \n",
       "\n",
       "  Embarked Salutation  \n",
       "0        S        Mr.  \n",
       "1        C       Mrs.  \n",
       "2        S      Miss.  "
      ]
     },
     "execution_count": 20,
     "metadata": {},
     "output_type": "execute_result"
    }
   ],
   "source": [
    "t_data.head(3)"
   ]
  },
  {
   "cell_type": "code",
   "execution_count": 21,
   "metadata": {},
   "outputs": [],
   "source": [
    "t_target = t_data['Survived']"
   ]
  },
  {
   "cell_type": "code",
   "execution_count": 22,
   "metadata": {},
   "outputs": [],
   "source": [
    "t_data = t_data.drop(['Survived'], axis=1)\n",
    "t_data = t_data.drop(['PassengerId'], axis=1)"
   ]
  },
  {
   "cell_type": "code",
   "execution_count": 23,
   "metadata": {},
   "outputs": [],
   "source": [
    "t_data['Salutation'] = t_data['Salutation'].astype('category')"
   ]
  },
  {
   "cell_type": "code",
   "execution_count": 24,
   "metadata": {},
   "outputs": [
    {
     "data": {
      "text/html": [
       "<div>\n",
       "<style scoped>\n",
       "    .dataframe tbody tr th:only-of-type {\n",
       "        vertical-align: middle;\n",
       "    }\n",
       "\n",
       "    .dataframe tbody tr th {\n",
       "        vertical-align: top;\n",
       "    }\n",
       "\n",
       "    .dataframe thead th {\n",
       "        text-align: right;\n",
       "    }\n",
       "</style>\n",
       "<table border=\"1\" class=\"dataframe\">\n",
       "  <thead>\n",
       "    <tr style=\"text-align: right;\">\n",
       "      <th></th>\n",
       "      <th>Age</th>\n",
       "      <th>SibSp</th>\n",
       "      <th>Parch</th>\n",
       "      <th>Fare</th>\n",
       "      <th>Salutation</th>\n",
       "      <th>Sex_female</th>\n",
       "      <th>Sex_male</th>\n",
       "      <th>Pclass_1</th>\n",
       "      <th>Pclass_2</th>\n",
       "      <th>Pclass_3</th>\n",
       "      <th>...</th>\n",
       "      <th>Cabin_C</th>\n",
       "      <th>Cabin_D</th>\n",
       "      <th>Cabin_E</th>\n",
       "      <th>Cabin_F</th>\n",
       "      <th>Cabin_G</th>\n",
       "      <th>Cabin_T</th>\n",
       "      <th>Cabin_U</th>\n",
       "      <th>Embarked_C</th>\n",
       "      <th>Embarked_Q</th>\n",
       "      <th>Embarked_S</th>\n",
       "    </tr>\n",
       "  </thead>\n",
       "  <tbody>\n",
       "    <tr>\n",
       "      <th>0</th>\n",
       "      <td>22.0</td>\n",
       "      <td>1</td>\n",
       "      <td>0</td>\n",
       "      <td>7.2500</td>\n",
       "      <td>Mr.</td>\n",
       "      <td>0</td>\n",
       "      <td>1</td>\n",
       "      <td>0</td>\n",
       "      <td>0</td>\n",
       "      <td>1</td>\n",
       "      <td>...</td>\n",
       "      <td>0</td>\n",
       "      <td>0</td>\n",
       "      <td>0</td>\n",
       "      <td>0</td>\n",
       "      <td>0</td>\n",
       "      <td>0</td>\n",
       "      <td>1</td>\n",
       "      <td>0</td>\n",
       "      <td>0</td>\n",
       "      <td>1</td>\n",
       "    </tr>\n",
       "    <tr>\n",
       "      <th>1</th>\n",
       "      <td>38.0</td>\n",
       "      <td>1</td>\n",
       "      <td>0</td>\n",
       "      <td>71.2833</td>\n",
       "      <td>Mrs.</td>\n",
       "      <td>1</td>\n",
       "      <td>0</td>\n",
       "      <td>1</td>\n",
       "      <td>0</td>\n",
       "      <td>0</td>\n",
       "      <td>...</td>\n",
       "      <td>1</td>\n",
       "      <td>0</td>\n",
       "      <td>0</td>\n",
       "      <td>0</td>\n",
       "      <td>0</td>\n",
       "      <td>0</td>\n",
       "      <td>0</td>\n",
       "      <td>1</td>\n",
       "      <td>0</td>\n",
       "      <td>0</td>\n",
       "    </tr>\n",
       "    <tr>\n",
       "      <th>2</th>\n",
       "      <td>26.0</td>\n",
       "      <td>0</td>\n",
       "      <td>0</td>\n",
       "      <td>7.9250</td>\n",
       "      <td>Miss.</td>\n",
       "      <td>1</td>\n",
       "      <td>0</td>\n",
       "      <td>0</td>\n",
       "      <td>0</td>\n",
       "      <td>1</td>\n",
       "      <td>...</td>\n",
       "      <td>0</td>\n",
       "      <td>0</td>\n",
       "      <td>0</td>\n",
       "      <td>0</td>\n",
       "      <td>0</td>\n",
       "      <td>0</td>\n",
       "      <td>1</td>\n",
       "      <td>0</td>\n",
       "      <td>0</td>\n",
       "      <td>1</td>\n",
       "    </tr>\n",
       "    <tr>\n",
       "      <th>3</th>\n",
       "      <td>35.0</td>\n",
       "      <td>1</td>\n",
       "      <td>0</td>\n",
       "      <td>53.1000</td>\n",
       "      <td>Mrs.</td>\n",
       "      <td>1</td>\n",
       "      <td>0</td>\n",
       "      <td>1</td>\n",
       "      <td>0</td>\n",
       "      <td>0</td>\n",
       "      <td>...</td>\n",
       "      <td>1</td>\n",
       "      <td>0</td>\n",
       "      <td>0</td>\n",
       "      <td>0</td>\n",
       "      <td>0</td>\n",
       "      <td>0</td>\n",
       "      <td>0</td>\n",
       "      <td>0</td>\n",
       "      <td>0</td>\n",
       "      <td>1</td>\n",
       "    </tr>\n",
       "    <tr>\n",
       "      <th>4</th>\n",
       "      <td>35.0</td>\n",
       "      <td>0</td>\n",
       "      <td>0</td>\n",
       "      <td>8.0500</td>\n",
       "      <td>Mr.</td>\n",
       "      <td>0</td>\n",
       "      <td>1</td>\n",
       "      <td>0</td>\n",
       "      <td>0</td>\n",
       "      <td>1</td>\n",
       "      <td>...</td>\n",
       "      <td>0</td>\n",
       "      <td>0</td>\n",
       "      <td>0</td>\n",
       "      <td>0</td>\n",
       "      <td>0</td>\n",
       "      <td>0</td>\n",
       "      <td>1</td>\n",
       "      <td>0</td>\n",
       "      <td>0</td>\n",
       "      <td>1</td>\n",
       "    </tr>\n",
       "  </tbody>\n",
       "</table>\n",
       "<p>5 rows × 22 columns</p>\n",
       "</div>"
      ],
      "text/plain": [
       "    Age  SibSp  Parch     Fare Salutation  Sex_female  Sex_male  Pclass_1  \\\n",
       "0  22.0      1      0   7.2500        Mr.           0         1         0   \n",
       "1  38.0      1      0  71.2833       Mrs.           1         0         1   \n",
       "2  26.0      0      0   7.9250      Miss.           1         0         0   \n",
       "3  35.0      1      0  53.1000       Mrs.           1         0         1   \n",
       "4  35.0      0      0   8.0500        Mr.           0         1         0   \n",
       "\n",
       "   Pclass_2  Pclass_3     ...      Cabin_C  Cabin_D  Cabin_E  Cabin_F  \\\n",
       "0         0         1     ...            0        0        0        0   \n",
       "1         0         0     ...            1        0        0        0   \n",
       "2         0         1     ...            0        0        0        0   \n",
       "3         0         0     ...            1        0        0        0   \n",
       "4         0         1     ...            0        0        0        0   \n",
       "\n",
       "   Cabin_G  Cabin_T  Cabin_U  Embarked_C  Embarked_Q  Embarked_S  \n",
       "0        0        0        1           0           0           1  \n",
       "1        0        0        0           1           0           0  \n",
       "2        0        0        1           0           0           1  \n",
       "3        0        0        0           0           0           1  \n",
       "4        0        0        1           0           0           1  \n",
       "\n",
       "[5 rows x 22 columns]"
      ]
     },
     "execution_count": 24,
     "metadata": {},
     "output_type": "execute_result"
    }
   ],
   "source": [
    "t_data_onehot = pd.get_dummies(t_data, columns=['Sex', 'Pclass', 'Cabin', 'Embarked'], prefix=['Sex', 'Pclass', 'Cabin', 'Embarked'])\n",
    "t_data_onehot.head(5)"
   ]
  },
  {
   "cell_type": "markdown",
   "metadata": {},
   "source": [
    "### Quick peak at how the data may split"
   ]
  },
  {
   "cell_type": "code",
   "execution_count": 25,
   "metadata": {},
   "outputs": [],
   "source": [
    "t_train_data, t_test_data, t_train_tgt, t_test_tgt = train_test_split(t_data_onehot, t_target, test_size = 0.3, stratify=t_target)"
   ]
  },
  {
   "cell_type": "code",
   "execution_count": 26,
   "metadata": {},
   "outputs": [],
   "source": [
    "t_train_data = t_train_data.drop(['Salutation'], axis=1)\n",
    "t_test_data = t_test_data.drop(['Salutation'], axis=1)"
   ]
  },
  {
   "cell_type": "code",
   "execution_count": 27,
   "metadata": {},
   "outputs": [],
   "source": [
    "clf_quick_dt = dt(criterion='gini', splitter='best', max_depth=6, min_samples_split=10, min_samples_leaf=5, max_features='log2')\n",
    "clf_quick_dt = clf_quick_dt.fit(t_train_data, t_train_tgt)"
   ]
  },
  {
   "cell_type": "code",
   "execution_count": 28,
   "metadata": {},
   "outputs": [],
   "source": [
    "pred_quick_dt = clf_quick_dt.predict(t_test_data)"
   ]
  },
  {
   "cell_type": "code",
   "execution_count": 29,
   "metadata": {},
   "outputs": [
    {
     "data": {
      "text/plain": [
       "Index(['Age', 'SibSp', 'Parch', 'Fare', 'Sex_female', 'Sex_male', 'Pclass_1',\n",
       "       'Pclass_2', 'Pclass_3', 'Cabin_A', 'Cabin_B', 'Cabin_C', 'Cabin_D',\n",
       "       'Cabin_E', 'Cabin_F', 'Cabin_G', 'Cabin_T', 'Cabin_U', 'Embarked_C',\n",
       "       'Embarked_Q', 'Embarked_S'],\n",
       "      dtype='object')"
      ]
     },
     "execution_count": 29,
     "metadata": {},
     "output_type": "execute_result"
    }
   ],
   "source": [
    "t_train_data.keys()"
   ]
  },
  {
   "cell_type": "code",
   "execution_count": 30,
   "metadata": {},
   "outputs": [
    {
     "data": {
      "image/svg+xml": [
       "<?xml version=\"1.0\" encoding=\"UTF-8\" standalone=\"no\"?>\r\n",
       "<!DOCTYPE svg PUBLIC \"-//W3C//DTD SVG 1.1//EN\"\r\n",
       " \"http://www.w3.org/Graphics/SVG/1.1/DTD/svg11.dtd\">\r\n",
       "<!-- Generated by graphviz version 2.38.0 (20140413.2041)\r\n",
       " -->\r\n",
       "<!-- Title: Tree Pages: 1 -->\r\n",
       "<svg width=\"1045pt\" height=\"790pt\"\r\n",
       " viewBox=\"0.00 0.00 1044.50 790.00\" xmlns=\"http://www.w3.org/2000/svg\" xmlns:xlink=\"http://www.w3.org/1999/xlink\">\r\n",
       "<g id=\"graph0\" class=\"graph\" transform=\"scale(1 1) rotate(0) translate(4 786)\">\r\n",
       "<title>Tree</title>\r\n",
       "<polygon fill=\"white\" stroke=\"none\" points=\"-4,4 -4,-786 1040.5,-786 1040.5,4 -4,4\"/>\r\n",
       "<!-- 0 -->\r\n",
       "<g id=\"node1\" class=\"node\"><title>0</title>\r\n",
       "<path fill=\"#e58139\" fill-opacity=\"0.376471\" stroke=\"black\" d=\"M658,-782C658,-782 552,-782 552,-782 546,-782 540,-776 540,-770 540,-770 540,-711 540,-711 540,-705 546,-699 552,-699 552,-699 658,-699 658,-699 664,-699 670,-705 670,-711 670,-711 670,-770 670,-770 670,-776 664,-782 658,-782\"/>\r\n",
       "<text text-anchor=\"start\" x=\"559.5\" y=\"-766.8\" font-family=\"Helvetica,sans-Serif\" font-size=\"14.00\">Cabin_E ≤ 0.5</text>\r\n",
       "<text text-anchor=\"start\" x=\"567.5\" y=\"-751.8\" font-family=\"Helvetica,sans-Serif\" font-size=\"14.00\">gini = 0.473</text>\r\n",
       "<text text-anchor=\"start\" x=\"557.5\" y=\"-736.8\" font-family=\"Helvetica,sans-Serif\" font-size=\"14.00\">samples = 623</text>\r\n",
       "<text text-anchor=\"start\" x=\"548\" y=\"-721.8\" font-family=\"Helvetica,sans-Serif\" font-size=\"14.00\">value = [384, 239]</text>\r\n",
       "<text text-anchor=\"start\" x=\"565.5\" y=\"-706.8\" font-family=\"Helvetica,sans-Serif\" font-size=\"14.00\">class = Died</text>\r\n",
       "</g>\r\n",
       "<!-- 1 -->\r\n",
       "<g id=\"node2\" class=\"node\"><title>1</title>\r\n",
       "<path fill=\"#e58139\" fill-opacity=\"0.419608\" stroke=\"black\" d=\"M587,-663C587,-663 481,-663 481,-663 475,-663 469,-657 469,-651 469,-651 469,-592 469,-592 469,-586 475,-580 481,-580 481,-580 587,-580 587,-580 593,-580 599,-586 599,-592 599,-592 599,-651 599,-651 599,-657 593,-663 587,-663\"/>\r\n",
       "<text text-anchor=\"start\" x=\"486.5\" y=\"-647.8\" font-family=\"Helvetica,sans-Serif\" font-size=\"14.00\">Pclass_3 ≤ 0.5</text>\r\n",
       "<text text-anchor=\"start\" x=\"496.5\" y=\"-632.8\" font-family=\"Helvetica,sans-Serif\" font-size=\"14.00\">gini = 0.465</text>\r\n",
       "<text text-anchor=\"start\" x=\"486.5\" y=\"-617.8\" font-family=\"Helvetica,sans-Serif\" font-size=\"14.00\">samples = 604</text>\r\n",
       "<text text-anchor=\"start\" x=\"477\" y=\"-602.8\" font-family=\"Helvetica,sans-Serif\" font-size=\"14.00\">value = [382, 222]</text>\r\n",
       "<text text-anchor=\"start\" x=\"494.5\" y=\"-587.8\" font-family=\"Helvetica,sans-Serif\" font-size=\"14.00\">class = Died</text>\r\n",
       "</g>\r\n",
       "<!-- 0&#45;&gt;1 -->\r\n",
       "<g id=\"edge1\" class=\"edge\"><title>0&#45;&gt;1</title>\r\n",
       "<path fill=\"none\" stroke=\"black\" d=\"M580.367,-698.907C575.025,-690.105 569.32,-680.703 563.803,-671.612\"/>\r\n",
       "<polygon fill=\"black\" stroke=\"black\" points=\"566.77,-669.754 558.59,-663.021 560.785,-673.386 566.77,-669.754\"/>\r\n",
       "<text text-anchor=\"middle\" x=\"552.648\" y=\"-683.604\" font-family=\"Helvetica,sans-Serif\" font-size=\"14.00\">True</text>\r\n",
       "</g>\r\n",
       "<!-- 30 -->\r\n",
       "<g id=\"node31\" class=\"node\"><title>30</title>\r\n",
       "<path fill=\"#399de5\" fill-opacity=\"0.882353\" stroke=\"black\" d=\"M725,-655.5C725,-655.5 629,-655.5 629,-655.5 623,-655.5 617,-649.5 617,-643.5 617,-643.5 617,-599.5 617,-599.5 617,-593.5 623,-587.5 629,-587.5 629,-587.5 725,-587.5 725,-587.5 731,-587.5 737,-593.5 737,-599.5 737,-599.5 737,-643.5 737,-643.5 737,-649.5 731,-655.5 725,-655.5\"/>\r\n",
       "<text text-anchor=\"start\" x=\"639.5\" y=\"-640.3\" font-family=\"Helvetica,sans-Serif\" font-size=\"14.00\">gini = 0.188</text>\r\n",
       "<text text-anchor=\"start\" x=\"633.5\" y=\"-625.3\" font-family=\"Helvetica,sans-Serif\" font-size=\"14.00\">samples = 19</text>\r\n",
       "<text text-anchor=\"start\" x=\"632.5\" y=\"-610.3\" font-family=\"Helvetica,sans-Serif\" font-size=\"14.00\">value = [2, 17]</text>\r\n",
       "<text text-anchor=\"start\" x=\"625\" y=\"-595.3\" font-family=\"Helvetica,sans-Serif\" font-size=\"14.00\">class = Survived</text>\r\n",
       "</g>\r\n",
       "<!-- 0&#45;&gt;30 -->\r\n",
       "<g id=\"edge30\" class=\"edge\"><title>0&#45;&gt;30</title>\r\n",
       "<path fill=\"none\" stroke=\"black\" d=\"M629.98,-698.907C636.838,-687.763 644.287,-675.658 651.191,-664.439\"/>\r\n",
       "<polygon fill=\"black\" stroke=\"black\" points=\"654.329,-666.018 656.59,-655.667 648.368,-662.349 654.329,-666.018\"/>\r\n",
       "<text text-anchor=\"middle\" x=\"662.38\" y=\"-676.287\" font-family=\"Helvetica,sans-Serif\" font-size=\"14.00\">False</text>\r\n",
       "</g>\r\n",
       "<!-- 2 -->\r\n",
       "<g id=\"node3\" class=\"node\"><title>2</title>\r\n",
       "<path fill=\"#399de5\" fill-opacity=\"0.090196\" stroke=\"black\" d=\"M512,-544C512,-544 406,-544 406,-544 400,-544 394,-538 394,-532 394,-532 394,-473 394,-473 394,-467 400,-461 406,-461 406,-461 512,-461 512,-461 518,-461 524,-467 524,-473 524,-473 524,-532 524,-532 524,-538 518,-544 512,-544\"/>\r\n",
       "<text text-anchor=\"start\" x=\"409\" y=\"-528.8\" font-family=\"Helvetica,sans-Serif\" font-size=\"14.00\">Sex_male ≤ 0.5</text>\r\n",
       "<text text-anchor=\"start\" x=\"421.5\" y=\"-513.8\" font-family=\"Helvetica,sans-Serif\" font-size=\"14.00\">gini = 0.499</text>\r\n",
       "<text text-anchor=\"start\" x=\"411.5\" y=\"-498.8\" font-family=\"Helvetica,sans-Serif\" font-size=\"14.00\">samples = 256</text>\r\n",
       "<text text-anchor=\"start\" x=\"402\" y=\"-483.8\" font-family=\"Helvetica,sans-Serif\" font-size=\"14.00\">value = [122, 134]</text>\r\n",
       "<text text-anchor=\"start\" x=\"407\" y=\"-468.8\" font-family=\"Helvetica,sans-Serif\" font-size=\"14.00\">class = Survived</text>\r\n",
       "</g>\r\n",
       "<!-- 1&#45;&gt;2 -->\r\n",
       "<g id=\"edge2\" class=\"edge\"><title>1&#45;&gt;2</title>\r\n",
       "<path fill=\"none\" stroke=\"black\" d=\"M507.979,-579.907C502.336,-571.105 496.31,-561.703 490.482,-552.612\"/>\r\n",
       "<polygon fill=\"black\" stroke=\"black\" points=\"493.318,-550.551 484.975,-544.021 487.425,-554.328 493.318,-550.551\"/>\r\n",
       "</g>\r\n",
       "<!-- 21 -->\r\n",
       "<g id=\"node22\" class=\"node\"><title>21</title>\r\n",
       "<path fill=\"#e58139\" fill-opacity=\"0.662745\" stroke=\"black\" d=\"M666,-544C666,-544 554,-544 554,-544 548,-544 542,-538 542,-532 542,-532 542,-473 542,-473 542,-467 548,-461 554,-461 554,-461 666,-461 666,-461 672,-461 678,-467 678,-473 678,-473 678,-532 678,-532 678,-538 672,-544 666,-544\"/>\r\n",
       "<text text-anchor=\"start\" x=\"550\" y=\"-528.8\" font-family=\"Helvetica,sans-Serif\" font-size=\"14.00\">Embarked_C ≤ 0.5</text>\r\n",
       "<text text-anchor=\"start\" x=\"572.5\" y=\"-513.8\" font-family=\"Helvetica,sans-Serif\" font-size=\"14.00\">gini = 0.378</text>\r\n",
       "<text text-anchor=\"start\" x=\"562.5\" y=\"-498.8\" font-family=\"Helvetica,sans-Serif\" font-size=\"14.00\">samples = 348</text>\r\n",
       "<text text-anchor=\"start\" x=\"557\" y=\"-483.8\" font-family=\"Helvetica,sans-Serif\" font-size=\"14.00\">value = [260, 88]</text>\r\n",
       "<text text-anchor=\"start\" x=\"570.5\" y=\"-468.8\" font-family=\"Helvetica,sans-Serif\" font-size=\"14.00\">class = Died</text>\r\n",
       "</g>\r\n",
       "<!-- 1&#45;&gt;21 -->\r\n",
       "<g id=\"edge21\" class=\"edge\"><title>1&#45;&gt;21</title>\r\n",
       "<path fill=\"none\" stroke=\"black\" d=\"M560.368,-579.907C566.086,-571.105 572.193,-561.703 578.098,-552.612\"/>\r\n",
       "<polygon fill=\"black\" stroke=\"black\" points=\"581.167,-554.313 583.679,-544.021 575.296,-550.5 581.167,-554.313\"/>\r\n",
       "</g>\r\n",
       "<!-- 3 -->\r\n",
       "<g id=\"node4\" class=\"node\"><title>3</title>\r\n",
       "<path fill=\"#399de5\" fill-opacity=\"0.980392\" stroke=\"black\" d=\"M371,-425C371,-425 275,-425 275,-425 269,-425 263,-419 263,-413 263,-413 263,-354 263,-354 263,-348 269,-342 275,-342 275,-342 371,-342 371,-342 377,-342 383,-348 383,-354 383,-354 383,-413 383,-413 383,-419 377,-425 371,-425\"/>\r\n",
       "<text text-anchor=\"start\" x=\"277.5\" y=\"-409.8\" font-family=\"Helvetica,sans-Serif\" font-size=\"14.00\">Cabin_D ≤ 0.5</text>\r\n",
       "<text text-anchor=\"start\" x=\"285.5\" y=\"-394.8\" font-family=\"Helvetica,sans-Serif\" font-size=\"14.00\">gini = 0.038</text>\r\n",
       "<text text-anchor=\"start\" x=\"275.5\" y=\"-379.8\" font-family=\"Helvetica,sans-Serif\" font-size=\"14.00\">samples = 103</text>\r\n",
       "<text text-anchor=\"start\" x=\"274.5\" y=\"-364.8\" font-family=\"Helvetica,sans-Serif\" font-size=\"14.00\">value = [2, 101]</text>\r\n",
       "<text text-anchor=\"start\" x=\"271\" y=\"-349.8\" font-family=\"Helvetica,sans-Serif\" font-size=\"14.00\">class = Survived</text>\r\n",
       "</g>\r\n",
       "<!-- 2&#45;&gt;3 -->\r\n",
       "<g id=\"edge3\" class=\"edge\"><title>2&#45;&gt;3</title>\r\n",
       "<path fill=\"none\" stroke=\"black\" d=\"M411.815,-460.907C400.845,-451.469 389.074,-441.343 377.806,-431.649\"/>\r\n",
       "<polygon fill=\"black\" stroke=\"black\" points=\"379.964,-428.889 370.101,-425.021 375.399,-434.196 379.964,-428.889\"/>\r\n",
       "</g>\r\n",
       "<!-- 10 -->\r\n",
       "<g id=\"node11\" class=\"node\"><title>10</title>\r\n",
       "<path fill=\"#e58139\" fill-opacity=\"0.725490\" stroke=\"black\" d=\"M511,-425C511,-425 413,-425 413,-425 407,-425 401,-419 401,-413 401,-413 401,-354 401,-354 401,-348 407,-342 413,-342 413,-342 511,-342 511,-342 517,-342 523,-348 523,-354 523,-354 523,-413 523,-413 523,-419 517,-425 511,-425\"/>\r\n",
       "<text text-anchor=\"start\" x=\"414.5\" y=\"-409.8\" font-family=\"Helvetica,sans-Serif\" font-size=\"14.00\">Pclass_1 ≤ 0.5</text>\r\n",
       "<text text-anchor=\"start\" x=\"424.5\" y=\"-394.8\" font-family=\"Helvetica,sans-Serif\" font-size=\"14.00\">gini = 0.338</text>\r\n",
       "<text text-anchor=\"start\" x=\"414.5\" y=\"-379.8\" font-family=\"Helvetica,sans-Serif\" font-size=\"14.00\">samples = 153</text>\r\n",
       "<text text-anchor=\"start\" x=\"409\" y=\"-364.8\" font-family=\"Helvetica,sans-Serif\" font-size=\"14.00\">value = [120, 33]</text>\r\n",
       "<text text-anchor=\"start\" x=\"422.5\" y=\"-349.8\" font-family=\"Helvetica,sans-Serif\" font-size=\"14.00\">class = Died</text>\r\n",
       "</g>\r\n",
       "<!-- 2&#45;&gt;10 -->\r\n",
       "<g id=\"edge10\" class=\"edge\"><title>2&#45;&gt;10</title>\r\n",
       "<path fill=\"none\" stroke=\"black\" d=\"M460.041,-460.907C460.255,-452.558 460.483,-443.671 460.705,-435.02\"/>\r\n",
       "<polygon fill=\"black\" stroke=\"black\" points=\"464.203,-435.107 460.961,-425.021 457.206,-434.928 464.203,-435.107\"/>\r\n",
       "</g>\r\n",
       "<!-- 4 -->\r\n",
       "<g id=\"node5\" class=\"node\"><title>4</title>\r\n",
       "<path fill=\"#399de5\" fill-opacity=\"0.976471\" stroke=\"black\" d=\"M235,-306C235,-306 139,-306 139,-306 133,-306 127,-300 127,-294 127,-294 127,-235 127,-235 127,-229 133,-223 139,-223 139,-223 235,-223 235,-223 241,-223 247,-229 247,-235 247,-235 247,-294 247,-294 247,-300 241,-306 235,-306\"/>\r\n",
       "<text text-anchor=\"start\" x=\"152\" y=\"-290.8\" font-family=\"Helvetica,sans-Serif\" font-size=\"14.00\">Age ≤ 37.0</text>\r\n",
       "<text text-anchor=\"start\" x=\"149.5\" y=\"-275.8\" font-family=\"Helvetica,sans-Serif\" font-size=\"14.00\">gini = 0.043</text>\r\n",
       "<text text-anchor=\"start\" x=\"143.5\" y=\"-260.8\" font-family=\"Helvetica,sans-Serif\" font-size=\"14.00\">samples = 91</text>\r\n",
       "<text text-anchor=\"start\" x=\"142.5\" y=\"-245.8\" font-family=\"Helvetica,sans-Serif\" font-size=\"14.00\">value = [2, 89]</text>\r\n",
       "<text text-anchor=\"start\" x=\"135\" y=\"-230.8\" font-family=\"Helvetica,sans-Serif\" font-size=\"14.00\">class = Survived</text>\r\n",
       "</g>\r\n",
       "<!-- 3&#45;&gt;4 -->\r\n",
       "<g id=\"edge4\" class=\"edge\"><title>3&#45;&gt;4</title>\r\n",
       "<path fill=\"none\" stroke=\"black\" d=\"M275.815,-341.907C264.845,-332.469 253.074,-322.343 241.806,-312.649\"/>\r\n",
       "<polygon fill=\"black\" stroke=\"black\" points=\"243.964,-309.889 234.101,-306.021 239.399,-315.196 243.964,-309.889\"/>\r\n",
       "</g>\r\n",
       "<!-- 9 -->\r\n",
       "<g id=\"node10\" class=\"node\"><title>9</title>\r\n",
       "<path fill=\"#399de5\" stroke=\"black\" d=\"M373,-298.5C373,-298.5 277,-298.5 277,-298.5 271,-298.5 265,-292.5 265,-286.5 265,-286.5 265,-242.5 265,-242.5 265,-236.5 271,-230.5 277,-230.5 277,-230.5 373,-230.5 373,-230.5 379,-230.5 385,-236.5 385,-242.5 385,-242.5 385,-286.5 385,-286.5 385,-292.5 379,-298.5 373,-298.5\"/>\r\n",
       "<text text-anchor=\"start\" x=\"296\" y=\"-283.3\" font-family=\"Helvetica,sans-Serif\" font-size=\"14.00\">gini = 0.0</text>\r\n",
       "<text text-anchor=\"start\" x=\"281.5\" y=\"-268.3\" font-family=\"Helvetica,sans-Serif\" font-size=\"14.00\">samples = 12</text>\r\n",
       "<text text-anchor=\"start\" x=\"280.5\" y=\"-253.3\" font-family=\"Helvetica,sans-Serif\" font-size=\"14.00\">value = [0, 12]</text>\r\n",
       "<text text-anchor=\"start\" x=\"273\" y=\"-238.3\" font-family=\"Helvetica,sans-Serif\" font-size=\"14.00\">class = Survived</text>\r\n",
       "</g>\r\n",
       "<!-- 3&#45;&gt;9 -->\r\n",
       "<g id=\"edge9\" class=\"edge\"><title>3&#45;&gt;9</title>\r\n",
       "<path fill=\"none\" stroke=\"black\" d=\"M323.694,-341.907C323.877,-331.204 324.075,-319.615 324.26,-308.776\"/>\r\n",
       "<polygon fill=\"black\" stroke=\"black\" points=\"327.762,-308.725 324.433,-298.667 320.763,-308.606 327.762,-308.725\"/>\r\n",
       "</g>\r\n",
       "<!-- 5 -->\r\n",
       "<g id=\"node6\" class=\"node\"><title>5</title>\r\n",
       "<path fill=\"#399de5\" stroke=\"black\" d=\"M108,-179.5C108,-179.5 12,-179.5 12,-179.5 6,-179.5 0,-173.5 0,-167.5 0,-167.5 0,-123.5 0,-123.5 0,-117.5 6,-111.5 12,-111.5 12,-111.5 108,-111.5 108,-111.5 114,-111.5 120,-117.5 120,-123.5 120,-123.5 120,-167.5 120,-167.5 120,-173.5 114,-179.5 108,-179.5\"/>\r\n",
       "<text text-anchor=\"start\" x=\"31\" y=\"-164.3\" font-family=\"Helvetica,sans-Serif\" font-size=\"14.00\">gini = 0.0</text>\r\n",
       "<text text-anchor=\"start\" x=\"16.5\" y=\"-149.3\" font-family=\"Helvetica,sans-Serif\" font-size=\"14.00\">samples = 69</text>\r\n",
       "<text text-anchor=\"start\" x=\"15.5\" y=\"-134.3\" font-family=\"Helvetica,sans-Serif\" font-size=\"14.00\">value = [0, 69]</text>\r\n",
       "<text text-anchor=\"start\" x=\"8\" y=\"-119.3\" font-family=\"Helvetica,sans-Serif\" font-size=\"14.00\">class = Survived</text>\r\n",
       "</g>\r\n",
       "<!-- 4&#45;&gt;5 -->\r\n",
       "<g id=\"edge5\" class=\"edge\"><title>4&#45;&gt;5</title>\r\n",
       "<path fill=\"none\" stroke=\"black\" d=\"M142.938,-222.907C130.122,-211.101 116.137,-198.217 103.364,-186.45\"/>\r\n",
       "<polygon fill=\"black\" stroke=\"black\" points=\"105.728,-183.868 96.0017,-179.667 100.985,-189.017 105.728,-183.868\"/>\r\n",
       "</g>\r\n",
       "<!-- 6 -->\r\n",
       "<g id=\"node7\" class=\"node\"><title>6</title>\r\n",
       "<path fill=\"#399de5\" fill-opacity=\"0.901961\" stroke=\"black\" d=\"M246,-187C246,-187 150,-187 150,-187 144,-187 138,-181 138,-175 138,-175 138,-116 138,-116 138,-110 144,-104 150,-104 150,-104 246,-104 246,-104 252,-104 258,-110 258,-116 258,-116 258,-175 258,-175 258,-181 252,-187 246,-187\"/>\r\n",
       "<text text-anchor=\"start\" x=\"160.5\" y=\"-171.8\" font-family=\"Helvetica,sans-Serif\" font-size=\"14.00\">SibSp ≤ 0.5</text>\r\n",
       "<text text-anchor=\"start\" x=\"160.5\" y=\"-156.8\" font-family=\"Helvetica,sans-Serif\" font-size=\"14.00\">gini = 0.165</text>\r\n",
       "<text text-anchor=\"start\" x=\"154.5\" y=\"-141.8\" font-family=\"Helvetica,sans-Serif\" font-size=\"14.00\">samples = 22</text>\r\n",
       "<text text-anchor=\"start\" x=\"153.5\" y=\"-126.8\" font-family=\"Helvetica,sans-Serif\" font-size=\"14.00\">value = [2, 20]</text>\r\n",
       "<text text-anchor=\"start\" x=\"146\" y=\"-111.8\" font-family=\"Helvetica,sans-Serif\" font-size=\"14.00\">class = Survived</text>\r\n",
       "</g>\r\n",
       "<!-- 4&#45;&gt;6 -->\r\n",
       "<g id=\"edge6\" class=\"edge\"><title>4&#45;&gt;6</title>\r\n",
       "<path fill=\"none\" stroke=\"black\" d=\"M190.816,-222.907C191.601,-214.558 192.437,-205.671 193.25,-197.02\"/>\r\n",
       "<polygon fill=\"black\" stroke=\"black\" points=\"196.739,-197.305 194.19,-187.021 189.77,-196.649 196.739,-197.305\"/>\r\n",
       "</g>\r\n",
       "<!-- 7 -->\r\n",
       "<g id=\"node8\" class=\"node\"><title>7</title>\r\n",
       "<path fill=\"#399de5\" fill-opacity=\"0.831373\" stroke=\"black\" d=\"M111,-68C111,-68 15,-68 15,-68 9,-68 3,-62 3,-56 3,-56 3,-12 3,-12 3,-6 9,-0 15,-0 15,-0 111,-0 111,-0 117,-0 123,-6 123,-12 123,-12 123,-56 123,-56 123,-62 117,-68 111,-68\"/>\r\n",
       "<text text-anchor=\"start\" x=\"25.5\" y=\"-52.8\" font-family=\"Helvetica,sans-Serif\" font-size=\"14.00\">gini = 0.245</text>\r\n",
       "<text text-anchor=\"start\" x=\"19.5\" y=\"-37.8\" font-family=\"Helvetica,sans-Serif\" font-size=\"14.00\">samples = 14</text>\r\n",
       "<text text-anchor=\"start\" x=\"18.5\" y=\"-22.8\" font-family=\"Helvetica,sans-Serif\" font-size=\"14.00\">value = [2, 12]</text>\r\n",
       "<text text-anchor=\"start\" x=\"11\" y=\"-7.8\" font-family=\"Helvetica,sans-Serif\" font-size=\"14.00\">class = Survived</text>\r\n",
       "</g>\r\n",
       "<!-- 6&#45;&gt;7 -->\r\n",
       "<g id=\"edge7\" class=\"edge\"><title>6&#45;&gt;7</title>\r\n",
       "<path fill=\"none\" stroke=\"black\" d=\"M147.731,-103.726C136.036,-94.2406 123.602,-84.1551 111.965,-74.7159\"/>\r\n",
       "<polygon fill=\"black\" stroke=\"black\" points=\"114.026,-71.8808 104.054,-68.2996 109.616,-77.3173 114.026,-71.8808\"/>\r\n",
       "</g>\r\n",
       "<!-- 8 -->\r\n",
       "<g id=\"node9\" class=\"node\"><title>8</title>\r\n",
       "<path fill=\"#399de5\" stroke=\"black\" d=\"M249,-68C249,-68 153,-68 153,-68 147,-68 141,-62 141,-56 141,-56 141,-12 141,-12 141,-6 147,-0 153,-0 153,-0 249,-0 249,-0 255,-0 261,-6 261,-12 261,-12 261,-56 261,-56 261,-62 255,-68 249,-68\"/>\r\n",
       "<text text-anchor=\"start\" x=\"172\" y=\"-52.8\" font-family=\"Helvetica,sans-Serif\" font-size=\"14.00\">gini = 0.0</text>\r\n",
       "<text text-anchor=\"start\" x=\"161.5\" y=\"-37.8\" font-family=\"Helvetica,sans-Serif\" font-size=\"14.00\">samples = 8</text>\r\n",
       "<text text-anchor=\"start\" x=\"160.5\" y=\"-22.8\" font-family=\"Helvetica,sans-Serif\" font-size=\"14.00\">value = [0, 8]</text>\r\n",
       "<text text-anchor=\"start\" x=\"149\" y=\"-7.8\" font-family=\"Helvetica,sans-Serif\" font-size=\"14.00\">class = Survived</text>\r\n",
       "</g>\r\n",
       "<!-- 6&#45;&gt;8 -->\r\n",
       "<g id=\"edge8\" class=\"edge\"><title>6&#45;&gt;8</title>\r\n",
       "<path fill=\"none\" stroke=\"black\" d=\"M199.117,-103.726C199.342,-95.5175 199.579,-86.8595 199.807,-78.56\"/>\r\n",
       "<polygon fill=\"black\" stroke=\"black\" points=\"203.312,-78.3917 200.088,-68.2996 196.315,-78.2 203.312,-78.3917\"/>\r\n",
       "</g>\r\n",
       "<!-- 11 -->\r\n",
       "<g id=\"node12\" class=\"node\"><title>11</title>\r\n",
       "<path fill=\"#e58139\" fill-opacity=\"0.866667\" stroke=\"black\" d=\"M500.5,-306C500.5,-306 419.5,-306 419.5,-306 413.5,-306 407.5,-300 407.5,-294 407.5,-294 407.5,-235 407.5,-235 407.5,-229 413.5,-223 419.5,-223 419.5,-223 500.5,-223 500.5,-223 506.5,-223 512.5,-229 512.5,-235 512.5,-235 512.5,-294 512.5,-294 512.5,-300 506.5,-306 500.5,-306\"/>\r\n",
       "<text text-anchor=\"start\" x=\"422.5\" y=\"-290.8\" font-family=\"Helvetica,sans-Serif\" font-size=\"14.00\">SibSp ≤ 0.5</text>\r\n",
       "<text text-anchor=\"start\" x=\"422.5\" y=\"-275.8\" font-family=\"Helvetica,sans-Serif\" font-size=\"14.00\">gini = 0.209</text>\r\n",
       "<text text-anchor=\"start\" x=\"416.5\" y=\"-260.8\" font-family=\"Helvetica,sans-Serif\" font-size=\"14.00\">samples = 76</text>\r\n",
       "<text text-anchor=\"start\" x=\"415.5\" y=\"-245.8\" font-family=\"Helvetica,sans-Serif\" font-size=\"14.00\">value = [67, 9]</text>\r\n",
       "<text text-anchor=\"start\" x=\"420.5\" y=\"-230.8\" font-family=\"Helvetica,sans-Serif\" font-size=\"14.00\">class = Died</text>\r\n",
       "</g>\r\n",
       "<!-- 10&#45;&gt;11 -->\r\n",
       "<g id=\"edge11\" class=\"edge\"><title>10&#45;&gt;11</title>\r\n",
       "<path fill=\"none\" stroke=\"black\" d=\"M461.306,-341.907C461.163,-333.558 461.011,-324.671 460.864,-316.02\"/>\r\n",
       "<polygon fill=\"black\" stroke=\"black\" points=\"464.363,-315.959 460.693,-306.021 457.364,-316.079 464.363,-315.959\"/>\r\n",
       "</g>\r\n",
       "<!-- 16 -->\r\n",
       "<g id=\"node17\" class=\"node\"><title>16</title>\r\n",
       "<path fill=\"#e58139\" fill-opacity=\"0.549020\" stroke=\"black\" d=\"M632.5,-306C632.5,-306 543.5,-306 543.5,-306 537.5,-306 531.5,-300 531.5,-294 531.5,-294 531.5,-235 531.5,-235 531.5,-229 537.5,-223 543.5,-223 543.5,-223 632.5,-223 632.5,-223 638.5,-223 644.5,-229 644.5,-235 644.5,-235 644.5,-294 644.5,-294 644.5,-300 638.5,-306 632.5,-306\"/>\r\n",
       "<text text-anchor=\"start\" x=\"542.5\" y=\"-290.8\" font-family=\"Helvetica,sans-Serif\" font-size=\"14.00\">Cabin_D ≤ 0.5</text>\r\n",
       "<text text-anchor=\"start\" x=\"550.5\" y=\"-275.8\" font-family=\"Helvetica,sans-Serif\" font-size=\"14.00\">gini = 0.429</text>\r\n",
       "<text text-anchor=\"start\" x=\"544.5\" y=\"-260.8\" font-family=\"Helvetica,sans-Serif\" font-size=\"14.00\">samples = 77</text>\r\n",
       "<text text-anchor=\"start\" x=\"539.5\" y=\"-245.8\" font-family=\"Helvetica,sans-Serif\" font-size=\"14.00\">value = [53, 24]</text>\r\n",
       "<text text-anchor=\"start\" x=\"548.5\" y=\"-230.8\" font-family=\"Helvetica,sans-Serif\" font-size=\"14.00\">class = Died</text>\r\n",
       "</g>\r\n",
       "<!-- 10&#45;&gt;16 -->\r\n",
       "<g id=\"edge16\" class=\"edge\"><title>10&#45;&gt;16</title>\r\n",
       "<path fill=\"none\" stroke=\"black\" d=\"M505.715,-341.907C515.781,-332.56 526.575,-322.538 536.923,-312.929\"/>\r\n",
       "<polygon fill=\"black\" stroke=\"black\" points=\"539.416,-315.39 544.362,-306.021 534.653,-310.261 539.416,-315.39\"/>\r\n",
       "</g>\r\n",
       "<!-- 12 -->\r\n",
       "<g id=\"node13\" class=\"node\"><title>12</title>\r\n",
       "<path fill=\"#e58139\" fill-opacity=\"0.878431\" stroke=\"black\" d=\"M376.5,-179.5C376.5,-179.5 295.5,-179.5 295.5,-179.5 289.5,-179.5 283.5,-173.5 283.5,-167.5 283.5,-167.5 283.5,-123.5 283.5,-123.5 283.5,-117.5 289.5,-111.5 295.5,-111.5 295.5,-111.5 376.5,-111.5 376.5,-111.5 382.5,-111.5 388.5,-117.5 388.5,-123.5 388.5,-123.5 388.5,-167.5 388.5,-167.5 388.5,-173.5 382.5,-179.5 376.5,-179.5\"/>\r\n",
       "<text text-anchor=\"start\" x=\"298.5\" y=\"-164.3\" font-family=\"Helvetica,sans-Serif\" font-size=\"14.00\">gini = 0.194</text>\r\n",
       "<text text-anchor=\"start\" x=\"292.5\" y=\"-149.3\" font-family=\"Helvetica,sans-Serif\" font-size=\"14.00\">samples = 55</text>\r\n",
       "<text text-anchor=\"start\" x=\"291.5\" y=\"-134.3\" font-family=\"Helvetica,sans-Serif\" font-size=\"14.00\">value = [49, 6]</text>\r\n",
       "<text text-anchor=\"start\" x=\"296.5\" y=\"-119.3\" font-family=\"Helvetica,sans-Serif\" font-size=\"14.00\">class = Died</text>\r\n",
       "</g>\r\n",
       "<!-- 11&#45;&gt;12 -->\r\n",
       "<g id=\"edge12\" class=\"edge\"><title>11&#45;&gt;12</title>\r\n",
       "<path fill=\"none\" stroke=\"black\" d=\"M416.979,-222.907C404.582,-211.211 391.066,-198.457 378.69,-186.78\"/>\r\n",
       "<polygon fill=\"black\" stroke=\"black\" points=\"380.827,-183.984 371.151,-179.667 376.023,-189.075 380.827,-183.984\"/>\r\n",
       "</g>\r\n",
       "<!-- 13 -->\r\n",
       "<g id=\"node14\" class=\"node\"><title>13</title>\r\n",
       "<path fill=\"#e58139\" fill-opacity=\"0.831373\" stroke=\"black\" d=\"M501,-187C501,-187 419,-187 419,-187 413,-187 407,-181 407,-175 407,-175 407,-116 407,-116 407,-110 413,-104 419,-104 419,-104 501,-104 501,-104 507,-104 513,-110 513,-116 513,-116 513,-175 513,-175 513,-181 507,-187 501,-187\"/>\r\n",
       "<text text-anchor=\"start\" x=\"415\" y=\"-171.8\" font-family=\"Helvetica,sans-Serif\" font-size=\"14.00\">Fare ≤ 26.125</text>\r\n",
       "<text text-anchor=\"start\" x=\"422.5\" y=\"-156.8\" font-family=\"Helvetica,sans-Serif\" font-size=\"14.00\">gini = 0.245</text>\r\n",
       "<text text-anchor=\"start\" x=\"416.5\" y=\"-141.8\" font-family=\"Helvetica,sans-Serif\" font-size=\"14.00\">samples = 21</text>\r\n",
       "<text text-anchor=\"start\" x=\"415.5\" y=\"-126.8\" font-family=\"Helvetica,sans-Serif\" font-size=\"14.00\">value = [18, 3]</text>\r\n",
       "<text text-anchor=\"start\" x=\"420.5\" y=\"-111.8\" font-family=\"Helvetica,sans-Serif\" font-size=\"14.00\">class = Died</text>\r\n",
       "</g>\r\n",
       "<!-- 11&#45;&gt;13 -->\r\n",
       "<g id=\"edge13\" class=\"edge\"><title>11&#45;&gt;13</title>\r\n",
       "<path fill=\"none\" stroke=\"black\" d=\"M460,-222.907C460,-214.649 460,-205.864 460,-197.302\"/>\r\n",
       "<polygon fill=\"black\" stroke=\"black\" points=\"463.5,-197.021 460,-187.021 456.5,-197.021 463.5,-197.021\"/>\r\n",
       "</g>\r\n",
       "<!-- 14 -->\r\n",
       "<g id=\"node15\" class=\"node\"><title>14</title>\r\n",
       "<path fill=\"#e58139\" fill-opacity=\"0.666667\" stroke=\"black\" d=\"M383.5,-68C383.5,-68 304.5,-68 304.5,-68 298.5,-68 292.5,-62 292.5,-56 292.5,-56 292.5,-12 292.5,-12 292.5,-6 298.5,-0 304.5,-0 304.5,-0 383.5,-0 383.5,-0 389.5,-0 395.5,-6 395.5,-12 395.5,-12 395.5,-56 395.5,-56 395.5,-62 389.5,-68 383.5,-68\"/>\r\n",
       "<text text-anchor=\"start\" x=\"306.5\" y=\"-52.8\" font-family=\"Helvetica,sans-Serif\" font-size=\"14.00\">gini = 0.375</text>\r\n",
       "<text text-anchor=\"start\" x=\"300.5\" y=\"-37.8\" font-family=\"Helvetica,sans-Serif\" font-size=\"14.00\">samples = 12</text>\r\n",
       "<text text-anchor=\"start\" x=\"303.5\" y=\"-22.8\" font-family=\"Helvetica,sans-Serif\" font-size=\"14.00\">value = [9, 3]</text>\r\n",
       "<text text-anchor=\"start\" x=\"304.5\" y=\"-7.8\" font-family=\"Helvetica,sans-Serif\" font-size=\"14.00\">class = Died</text>\r\n",
       "</g>\r\n",
       "<!-- 13&#45;&gt;14 -->\r\n",
       "<g id=\"edge14\" class=\"edge\"><title>13&#45;&gt;14</title>\r\n",
       "<path fill=\"none\" stroke=\"black\" d=\"M416.806,-103.726C406.95,-94.423 396.484,-84.5428 386.651,-75.2612\"/>\r\n",
       "<polygon fill=\"black\" stroke=\"black\" points=\"388.951,-72.6189 379.276,-68.2996 384.146,-77.7092 388.951,-72.6189\"/>\r\n",
       "</g>\r\n",
       "<!-- 15 -->\r\n",
       "<g id=\"node16\" class=\"node\"><title>15</title>\r\n",
       "<path fill=\"#e58139\" stroke=\"black\" d=\"M498.5,-68C498.5,-68 425.5,-68 425.5,-68 419.5,-68 413.5,-62 413.5,-56 413.5,-56 413.5,-12 413.5,-12 413.5,-6 419.5,-0 425.5,-0 425.5,-0 498.5,-0 498.5,-0 504.5,-0 510.5,-6 510.5,-12 510.5,-12 510.5,-56 510.5,-56 510.5,-62 504.5,-68 498.5,-68\"/>\r\n",
       "<text text-anchor=\"start\" x=\"433\" y=\"-52.8\" font-family=\"Helvetica,sans-Serif\" font-size=\"14.00\">gini = 0.0</text>\r\n",
       "<text text-anchor=\"start\" x=\"422.5\" y=\"-37.8\" font-family=\"Helvetica,sans-Serif\" font-size=\"14.00\">samples = 9</text>\r\n",
       "<text text-anchor=\"start\" x=\"421.5\" y=\"-22.8\" font-family=\"Helvetica,sans-Serif\" font-size=\"14.00\">value = [9, 0]</text>\r\n",
       "<text text-anchor=\"start\" x=\"422.5\" y=\"-7.8\" font-family=\"Helvetica,sans-Serif\" font-size=\"14.00\">class = Died</text>\r\n",
       "</g>\r\n",
       "<!-- 13&#45;&gt;15 -->\r\n",
       "<g id=\"edge15\" class=\"edge\"><title>13&#45;&gt;15</title>\r\n",
       "<path fill=\"none\" stroke=\"black\" d=\"M460.745,-103.726C460.895,-95.5175 461.053,-86.8595 461.204,-78.56\"/>\r\n",
       "<polygon fill=\"black\" stroke=\"black\" points=\"464.708,-78.3619 461.392,-68.2996 457.71,-78.234 464.708,-78.3619\"/>\r\n",
       "</g>\r\n",
       "<!-- 17 -->\r\n",
       "<g id=\"node18\" class=\"node\"><title>17</title>\r\n",
       "<path fill=\"#e58139\" fill-opacity=\"0.596078\" stroke=\"black\" d=\"M632.5,-187C632.5,-187 543.5,-187 543.5,-187 537.5,-187 531.5,-181 531.5,-175 531.5,-175 531.5,-116 531.5,-116 531.5,-110 537.5,-104 543.5,-104 543.5,-104 632.5,-104 632.5,-104 638.5,-104 644.5,-110 644.5,-116 644.5,-116 644.5,-175 644.5,-175 644.5,-181 638.5,-187 632.5,-187\"/>\r\n",
       "<text text-anchor=\"start\" x=\"553\" y=\"-171.8\" font-family=\"Helvetica,sans-Serif\" font-size=\"14.00\">Age ≤ 30.5</text>\r\n",
       "<text text-anchor=\"start\" x=\"554.5\" y=\"-156.8\" font-family=\"Helvetica,sans-Serif\" font-size=\"14.00\">gini = 0.41</text>\r\n",
       "<text text-anchor=\"start\" x=\"544.5\" y=\"-141.8\" font-family=\"Helvetica,sans-Serif\" font-size=\"14.00\">samples = 66</text>\r\n",
       "<text text-anchor=\"start\" x=\"539.5\" y=\"-126.8\" font-family=\"Helvetica,sans-Serif\" font-size=\"14.00\">value = [47, 19]</text>\r\n",
       "<text text-anchor=\"start\" x=\"548.5\" y=\"-111.8\" font-family=\"Helvetica,sans-Serif\" font-size=\"14.00\">class = Died</text>\r\n",
       "</g>\r\n",
       "<!-- 16&#45;&gt;17 -->\r\n",
       "<g id=\"edge17\" class=\"edge\"><title>16&#45;&gt;17</title>\r\n",
       "<path fill=\"none\" stroke=\"black\" d=\"M588,-222.907C588,-214.649 588,-205.864 588,-197.302\"/>\r\n",
       "<polygon fill=\"black\" stroke=\"black\" points=\"591.5,-197.021 588,-187.021 584.5,-197.021 591.5,-197.021\"/>\r\n",
       "</g>\r\n",
       "<!-- 20 -->\r\n",
       "<g id=\"node21\" class=\"node\"><title>20</title>\r\n",
       "<path fill=\"#e58139\" fill-opacity=\"0.164706\" stroke=\"black\" d=\"M753.5,-179.5C753.5,-179.5 674.5,-179.5 674.5,-179.5 668.5,-179.5 662.5,-173.5 662.5,-167.5 662.5,-167.5 662.5,-123.5 662.5,-123.5 662.5,-117.5 668.5,-111.5 674.5,-111.5 674.5,-111.5 753.5,-111.5 753.5,-111.5 759.5,-111.5 765.5,-117.5 765.5,-123.5 765.5,-123.5 765.5,-167.5 765.5,-167.5 765.5,-173.5 759.5,-179.5 753.5,-179.5\"/>\r\n",
       "<text text-anchor=\"start\" x=\"676.5\" y=\"-164.3\" font-family=\"Helvetica,sans-Serif\" font-size=\"14.00\">gini = 0.496</text>\r\n",
       "<text text-anchor=\"start\" x=\"670.5\" y=\"-149.3\" font-family=\"Helvetica,sans-Serif\" font-size=\"14.00\">samples = 11</text>\r\n",
       "<text text-anchor=\"start\" x=\"673.5\" y=\"-134.3\" font-family=\"Helvetica,sans-Serif\" font-size=\"14.00\">value = [6, 5]</text>\r\n",
       "<text text-anchor=\"start\" x=\"674.5\" y=\"-119.3\" font-family=\"Helvetica,sans-Serif\" font-size=\"14.00\">class = Died</text>\r\n",
       "</g>\r\n",
       "<!-- 16&#45;&gt;20 -->\r\n",
       "<g id=\"edge20\" class=\"edge\"><title>16&#45;&gt;20</title>\r\n",
       "<path fill=\"none\" stroke=\"black\" d=\"M631.715,-222.907C644.311,-211.211 658.046,-198.457 670.622,-186.78\"/>\r\n",
       "<polygon fill=\"black\" stroke=\"black\" points=\"673.335,-189.036 678.282,-179.667 668.572,-183.907 673.335,-189.036\"/>\r\n",
       "</g>\r\n",
       "<!-- 18 -->\r\n",
       "<g id=\"node19\" class=\"node\"><title>18</title>\r\n",
       "<path fill=\"#e58139\" fill-opacity=\"0.737255\" stroke=\"black\" d=\"M625.5,-68C625.5,-68 544.5,-68 544.5,-68 538.5,-68 532.5,-62 532.5,-56 532.5,-56 532.5,-12 532.5,-12 532.5,-6 538.5,-0 544.5,-0 544.5,-0 625.5,-0 625.5,-0 631.5,-0 637.5,-6 637.5,-12 637.5,-12 637.5,-56 637.5,-56 637.5,-62 631.5,-68 625.5,-68\"/>\r\n",
       "<text text-anchor=\"start\" x=\"551.5\" y=\"-52.8\" font-family=\"Helvetica,sans-Serif\" font-size=\"14.00\">gini = 0.33</text>\r\n",
       "<text text-anchor=\"start\" x=\"541.5\" y=\"-37.8\" font-family=\"Helvetica,sans-Serif\" font-size=\"14.00\">samples = 24</text>\r\n",
       "<text text-anchor=\"start\" x=\"540.5\" y=\"-22.8\" font-family=\"Helvetica,sans-Serif\" font-size=\"14.00\">value = [19, 5]</text>\r\n",
       "<text text-anchor=\"start\" x=\"545.5\" y=\"-7.8\" font-family=\"Helvetica,sans-Serif\" font-size=\"14.00\">class = Died</text>\r\n",
       "</g>\r\n",
       "<!-- 17&#45;&gt;18 -->\r\n",
       "<g id=\"edge18\" class=\"edge\"><title>17&#45;&gt;18</title>\r\n",
       "<path fill=\"none\" stroke=\"black\" d=\"M586.883,-103.726C586.658,-95.5175 586.421,-86.8595 586.193,-78.56\"/>\r\n",
       "<polygon fill=\"black\" stroke=\"black\" points=\"589.685,-78.2 585.912,-68.2996 582.688,-78.3917 589.685,-78.2\"/>\r\n",
       "</g>\r\n",
       "<!-- 19 -->\r\n",
       "<g id=\"node20\" class=\"node\"><title>19</title>\r\n",
       "<path fill=\"#e58139\" fill-opacity=\"0.498039\" stroke=\"black\" d=\"M756.5,-68C756.5,-68 667.5,-68 667.5,-68 661.5,-68 655.5,-62 655.5,-56 655.5,-56 655.5,-12 655.5,-12 655.5,-6 661.5,-0 667.5,-0 667.5,-0 756.5,-0 756.5,-0 762.5,-0 768.5,-6 768.5,-12 768.5,-12 768.5,-56 768.5,-56 768.5,-62 762.5,-68 756.5,-68\"/>\r\n",
       "<text text-anchor=\"start\" x=\"674.5\" y=\"-52.8\" font-family=\"Helvetica,sans-Serif\" font-size=\"14.00\">gini = 0.444</text>\r\n",
       "<text text-anchor=\"start\" x=\"668.5\" y=\"-37.8\" font-family=\"Helvetica,sans-Serif\" font-size=\"14.00\">samples = 42</text>\r\n",
       "<text text-anchor=\"start\" x=\"663.5\" y=\"-22.8\" font-family=\"Helvetica,sans-Serif\" font-size=\"14.00\">value = [28, 14]</text>\r\n",
       "<text text-anchor=\"start\" x=\"672.5\" y=\"-7.8\" font-family=\"Helvetica,sans-Serif\" font-size=\"14.00\">class = Died</text>\r\n",
       "</g>\r\n",
       "<!-- 17&#45;&gt;19 -->\r\n",
       "<g id=\"edge19\" class=\"edge\"><title>17&#45;&gt;19</title>\r\n",
       "<path fill=\"none\" stroke=\"black\" d=\"M634.173,-103.726C644.811,-94.3318 656.116,-84.349 666.716,-74.9883\"/>\r\n",
       "<polygon fill=\"black\" stroke=\"black\" points=\"669.112,-77.5424 674.291,-68.2996 664.478,-72.2953 669.112,-77.5424\"/>\r\n",
       "</g>\r\n",
       "<!-- 22 -->\r\n",
       "<g id=\"node23\" class=\"node\"><title>22</title>\r\n",
       "<path fill=\"#e58139\" fill-opacity=\"0.709804\" stroke=\"black\" d=\"M656,-417.5C656,-417.5 558,-417.5 558,-417.5 552,-417.5 546,-411.5 546,-405.5 546,-405.5 546,-361.5 546,-361.5 546,-355.5 552,-349.5 558,-349.5 558,-349.5 656,-349.5 656,-349.5 662,-349.5 668,-355.5 668,-361.5 668,-361.5 668,-405.5 668,-405.5 668,-411.5 662,-417.5 656,-417.5\"/>\r\n",
       "<text text-anchor=\"start\" x=\"573.5\" y=\"-402.3\" font-family=\"Helvetica,sans-Serif\" font-size=\"14.00\">gini = 0.35</text>\r\n",
       "<text text-anchor=\"start\" x=\"559.5\" y=\"-387.3\" font-family=\"Helvetica,sans-Serif\" font-size=\"14.00\">samples = 301</text>\r\n",
       "<text text-anchor=\"start\" x=\"554\" y=\"-372.3\" font-family=\"Helvetica,sans-Serif\" font-size=\"14.00\">value = [233, 68]</text>\r\n",
       "<text text-anchor=\"start\" x=\"567.5\" y=\"-357.3\" font-family=\"Helvetica,sans-Serif\" font-size=\"14.00\">class = Died</text>\r\n",
       "</g>\r\n",
       "<!-- 21&#45;&gt;22 -->\r\n",
       "<g id=\"edge22\" class=\"edge\"><title>21&#45;&gt;22</title>\r\n",
       "<path fill=\"none\" stroke=\"black\" d=\"M608.959,-460.907C608.685,-450.204 608.388,-438.615 608.11,-427.776\"/>\r\n",
       "<polygon fill=\"black\" stroke=\"black\" points=\"611.606,-427.574 607.85,-417.667 604.608,-427.753 611.606,-427.574\"/>\r\n",
       "</g>\r\n",
       "<!-- 23 -->\r\n",
       "<g id=\"node24\" class=\"node\"><title>23</title>\r\n",
       "<path fill=\"#e58139\" fill-opacity=\"0.258824\" stroke=\"black\" d=\"M787.5,-425C787.5,-425 698.5,-425 698.5,-425 692.5,-425 686.5,-419 686.5,-413 686.5,-413 686.5,-354 686.5,-354 686.5,-348 692.5,-342 698.5,-342 698.5,-342 787.5,-342 787.5,-342 793.5,-342 799.5,-348 799.5,-354 799.5,-354 799.5,-413 799.5,-413 799.5,-419 793.5,-425 787.5,-425\"/>\r\n",
       "<text text-anchor=\"start\" x=\"708\" y=\"-409.8\" font-family=\"Helvetica,sans-Serif\" font-size=\"14.00\">Age ≤ 15.5</text>\r\n",
       "<text text-anchor=\"start\" x=\"705.5\" y=\"-394.8\" font-family=\"Helvetica,sans-Serif\" font-size=\"14.00\">gini = 0.489</text>\r\n",
       "<text text-anchor=\"start\" x=\"699.5\" y=\"-379.8\" font-family=\"Helvetica,sans-Serif\" font-size=\"14.00\">samples = 47</text>\r\n",
       "<text text-anchor=\"start\" x=\"694.5\" y=\"-364.8\" font-family=\"Helvetica,sans-Serif\" font-size=\"14.00\">value = [27, 20]</text>\r\n",
       "<text text-anchor=\"start\" x=\"703.5\" y=\"-349.8\" font-family=\"Helvetica,sans-Serif\" font-size=\"14.00\">class = Died</text>\r\n",
       "</g>\r\n",
       "<!-- 21&#45;&gt;23 -->\r\n",
       "<g id=\"edge23\" class=\"edge\"><title>21&#45;&gt;23</title>\r\n",
       "<path fill=\"none\" stroke=\"black\" d=\"M656.144,-460.907C666.872,-451.469 678.384,-441.343 689.403,-431.649\"/>\r\n",
       "<polygon fill=\"black\" stroke=\"black\" points=\"691.741,-434.254 696.938,-425.021 687.118,-428.998 691.741,-434.254\"/>\r\n",
       "</g>\r\n",
       "<!-- 24 -->\r\n",
       "<g id=\"node25\" class=\"node\"><title>24</title>\r\n",
       "<path fill=\"#399de5\" fill-opacity=\"0.874510\" stroke=\"black\" d=\"M785,-298.5C785,-298.5 689,-298.5 689,-298.5 683,-298.5 677,-292.5 677,-286.5 677,-286.5 677,-242.5 677,-242.5 677,-236.5 683,-230.5 689,-230.5 689,-230.5 785,-230.5 785,-230.5 791,-230.5 797,-236.5 797,-242.5 797,-242.5 797,-286.5 797,-286.5 797,-292.5 791,-298.5 785,-298.5\"/>\r\n",
       "<text text-anchor=\"start\" x=\"699.5\" y=\"-283.3\" font-family=\"Helvetica,sans-Serif\" font-size=\"14.00\">gini = 0.198</text>\r\n",
       "<text text-anchor=\"start\" x=\"697.5\" y=\"-268.3\" font-family=\"Helvetica,sans-Serif\" font-size=\"14.00\">samples = 9</text>\r\n",
       "<text text-anchor=\"start\" x=\"696.5\" y=\"-253.3\" font-family=\"Helvetica,sans-Serif\" font-size=\"14.00\">value = [1, 8]</text>\r\n",
       "<text text-anchor=\"start\" x=\"685\" y=\"-238.3\" font-family=\"Helvetica,sans-Serif\" font-size=\"14.00\">class = Survived</text>\r\n",
       "</g>\r\n",
       "<!-- 23&#45;&gt;24 -->\r\n",
       "<g id=\"edge24\" class=\"edge\"><title>23&#45;&gt;24</title>\r\n",
       "<path fill=\"none\" stroke=\"black\" d=\"M740.918,-341.907C740.369,-331.204 739.775,-319.615 739.219,-308.776\"/>\r\n",
       "<polygon fill=\"black\" stroke=\"black\" points=\"742.709,-308.475 738.701,-298.667 735.718,-308.833 742.709,-308.475\"/>\r\n",
       "</g>\r\n",
       "<!-- 25 -->\r\n",
       "<g id=\"node26\" class=\"node\"><title>25</title>\r\n",
       "<path fill=\"#e58139\" fill-opacity=\"0.537255\" stroke=\"black\" d=\"M916.5,-306C916.5,-306 827.5,-306 827.5,-306 821.5,-306 815.5,-300 815.5,-294 815.5,-294 815.5,-235 815.5,-235 815.5,-229 821.5,-223 827.5,-223 827.5,-223 916.5,-223 916.5,-223 922.5,-223 928.5,-229 928.5,-235 928.5,-235 928.5,-294 928.5,-294 928.5,-300 922.5,-306 916.5,-306\"/>\r\n",
       "<text text-anchor=\"start\" x=\"837\" y=\"-290.8\" font-family=\"Helvetica,sans-Serif\" font-size=\"14.00\">Age ≤ 29.5</text>\r\n",
       "<text text-anchor=\"start\" x=\"834.5\" y=\"-275.8\" font-family=\"Helvetica,sans-Serif\" font-size=\"14.00\">gini = 0.432</text>\r\n",
       "<text text-anchor=\"start\" x=\"828.5\" y=\"-260.8\" font-family=\"Helvetica,sans-Serif\" font-size=\"14.00\">samples = 38</text>\r\n",
       "<text text-anchor=\"start\" x=\"823.5\" y=\"-245.8\" font-family=\"Helvetica,sans-Serif\" font-size=\"14.00\">value = [26, 12]</text>\r\n",
       "<text text-anchor=\"start\" x=\"832.5\" y=\"-230.8\" font-family=\"Helvetica,sans-Serif\" font-size=\"14.00\">class = Died</text>\r\n",
       "</g>\r\n",
       "<!-- 23&#45;&gt;25 -->\r\n",
       "<g id=\"edge25\" class=\"edge\"><title>23&#45;&gt;25</title>\r\n",
       "<path fill=\"none\" stroke=\"black\" d=\"M787.756,-341.907C798.062,-332.56 809.112,-322.538 819.707,-312.929\"/>\r\n",
       "<polygon fill=\"black\" stroke=\"black\" points=\"822.267,-315.332 827.323,-306.021 817.565,-310.146 822.267,-315.332\"/>\r\n",
       "</g>\r\n",
       "<!-- 26 -->\r\n",
       "<g id=\"node27\" class=\"node\"><title>26</title>\r\n",
       "<path fill=\"#e58139\" fill-opacity=\"0.427451\" stroke=\"black\" d=\"M909.5,-187C909.5,-187 820.5,-187 820.5,-187 814.5,-187 808.5,-181 808.5,-175 808.5,-175 808.5,-116 808.5,-116 808.5,-110 814.5,-104 820.5,-104 820.5,-104 909.5,-104 909.5,-104 915.5,-104 921.5,-110 921.5,-116 921.5,-116 921.5,-175 921.5,-175 921.5,-181 915.5,-187 909.5,-187\"/>\r\n",
       "<text text-anchor=\"start\" x=\"830\" y=\"-171.8\" font-family=\"Helvetica,sans-Serif\" font-size=\"14.00\">Age ≤ 23.0</text>\r\n",
       "<text text-anchor=\"start\" x=\"827.5\" y=\"-156.8\" font-family=\"Helvetica,sans-Serif\" font-size=\"14.00\">gini = 0.463</text>\r\n",
       "<text text-anchor=\"start\" x=\"821.5\" y=\"-141.8\" font-family=\"Helvetica,sans-Serif\" font-size=\"14.00\">samples = 33</text>\r\n",
       "<text text-anchor=\"start\" x=\"816.5\" y=\"-126.8\" font-family=\"Helvetica,sans-Serif\" font-size=\"14.00\">value = [21, 12]</text>\r\n",
       "<text text-anchor=\"start\" x=\"825.5\" y=\"-111.8\" font-family=\"Helvetica,sans-Serif\" font-size=\"14.00\">class = Died</text>\r\n",
       "</g>\r\n",
       "<!-- 25&#45;&gt;26 -->\r\n",
       "<g id=\"edge26\" class=\"edge\"><title>25&#45;&gt;26</title>\r\n",
       "<path fill=\"none\" stroke=\"black\" d=\"M869.571,-222.907C869.072,-214.558 868.54,-205.671 868.023,-197.02\"/>\r\n",
       "<polygon fill=\"black\" stroke=\"black\" points=\"871.515,-196.794 867.424,-187.021 864.528,-197.212 871.515,-196.794\"/>\r\n",
       "</g>\r\n",
       "<!-- 29 -->\r\n",
       "<g id=\"node30\" class=\"node\"><title>29</title>\r\n",
       "<path fill=\"#e58139\" stroke=\"black\" d=\"M1024.5,-179.5C1024.5,-179.5 951.5,-179.5 951.5,-179.5 945.5,-179.5 939.5,-173.5 939.5,-167.5 939.5,-167.5 939.5,-123.5 939.5,-123.5 939.5,-117.5 945.5,-111.5 951.5,-111.5 951.5,-111.5 1024.5,-111.5 1024.5,-111.5 1030.5,-111.5 1036.5,-117.5 1036.5,-123.5 1036.5,-123.5 1036.5,-167.5 1036.5,-167.5 1036.5,-173.5 1030.5,-179.5 1024.5,-179.5\"/>\r\n",
       "<text text-anchor=\"start\" x=\"959\" y=\"-164.3\" font-family=\"Helvetica,sans-Serif\" font-size=\"14.00\">gini = 0.0</text>\r\n",
       "<text text-anchor=\"start\" x=\"948.5\" y=\"-149.3\" font-family=\"Helvetica,sans-Serif\" font-size=\"14.00\">samples = 5</text>\r\n",
       "<text text-anchor=\"start\" x=\"947.5\" y=\"-134.3\" font-family=\"Helvetica,sans-Serif\" font-size=\"14.00\">value = [5, 0]</text>\r\n",
       "<text text-anchor=\"start\" x=\"948.5\" y=\"-119.3\" font-family=\"Helvetica,sans-Serif\" font-size=\"14.00\">class = Died</text>\r\n",
       "</g>\r\n",
       "<!-- 25&#45;&gt;29 -->\r\n",
       "<g id=\"edge29\" class=\"edge\"><title>25&#45;&gt;29</title>\r\n",
       "<path fill=\"none\" stroke=\"black\" d=\"M912.246,-222.907C923.842,-211.211 936.487,-198.457 948.065,-186.78\"/>\r\n",
       "<polygon fill=\"black\" stroke=\"black\" points=\"950.561,-189.233 955.117,-179.667 945.59,-184.304 950.561,-189.233\"/>\r\n",
       "</g>\r\n",
       "<!-- 27 -->\r\n",
       "<g id=\"node28\" class=\"node\"><title>27</title>\r\n",
       "<path fill=\"#e58139\" fill-opacity=\"0.600000\" stroke=\"black\" d=\"M892.5,-68C892.5,-68 819.5,-68 819.5,-68 813.5,-68 807.5,-62 807.5,-56 807.5,-56 807.5,-12 807.5,-12 807.5,-6 813.5,-0 819.5,-0 819.5,-0 892.5,-0 892.5,-0 898.5,-0 904.5,-6 904.5,-12 904.5,-12 904.5,-56 904.5,-56 904.5,-62 898.5,-68 892.5,-68\"/>\r\n",
       "<text text-anchor=\"start\" x=\"818.5\" y=\"-52.8\" font-family=\"Helvetica,sans-Serif\" font-size=\"14.00\">gini = 0.408</text>\r\n",
       "<text text-anchor=\"start\" x=\"816.5\" y=\"-37.8\" font-family=\"Helvetica,sans-Serif\" font-size=\"14.00\">samples = 7</text>\r\n",
       "<text text-anchor=\"start\" x=\"815.5\" y=\"-22.8\" font-family=\"Helvetica,sans-Serif\" font-size=\"14.00\">value = [5, 2]</text>\r\n",
       "<text text-anchor=\"start\" x=\"816.5\" y=\"-7.8\" font-family=\"Helvetica,sans-Serif\" font-size=\"14.00\">class = Died</text>\r\n",
       "</g>\r\n",
       "<!-- 26&#45;&gt;27 -->\r\n",
       "<g id=\"edge27\" class=\"edge\"><title>26&#45;&gt;27</title>\r\n",
       "<path fill=\"none\" stroke=\"black\" d=\"M861.649,-103.726C860.967,-95.4263 860.247,-86.6671 859.558,-78.2834\"/>\r\n",
       "<polygon fill=\"black\" stroke=\"black\" points=\"863.044,-77.9793 858.737,-68.2996 856.068,-78.5527 863.044,-77.9793\"/>\r\n",
       "</g>\r\n",
       "<!-- 28 -->\r\n",
       "<g id=\"node29\" class=\"node\"><title>28</title>\r\n",
       "<path fill=\"#e58139\" fill-opacity=\"0.376471\" stroke=\"black\" d=\"M1023.5,-68C1023.5,-68 934.5,-68 934.5,-68 928.5,-68 922.5,-62 922.5,-56 922.5,-56 922.5,-12 922.5,-12 922.5,-6 928.5,-0 934.5,-0 934.5,-0 1023.5,-0 1023.5,-0 1029.5,-0 1035.5,-6 1035.5,-12 1035.5,-12 1035.5,-56 1035.5,-56 1035.5,-62 1029.5,-68 1023.5,-68\"/>\r\n",
       "<text text-anchor=\"start\" x=\"941.5\" y=\"-52.8\" font-family=\"Helvetica,sans-Serif\" font-size=\"14.00\">gini = 0.473</text>\r\n",
       "<text text-anchor=\"start\" x=\"935.5\" y=\"-37.8\" font-family=\"Helvetica,sans-Serif\" font-size=\"14.00\">samples = 26</text>\r\n",
       "<text text-anchor=\"start\" x=\"930.5\" y=\"-22.8\" font-family=\"Helvetica,sans-Serif\" font-size=\"14.00\">value = [16, 10]</text>\r\n",
       "<text text-anchor=\"start\" x=\"939.5\" y=\"-7.8\" font-family=\"Helvetica,sans-Serif\" font-size=\"14.00\">class = Died</text>\r\n",
       "</g>\r\n",
       "<!-- 26&#45;&gt;28 -->\r\n",
       "<g id=\"edge28\" class=\"edge\"><title>26&#45;&gt;28</title>\r\n",
       "<path fill=\"none\" stroke=\"black\" d=\"M907.449,-103.726C917.135,-94.423 927.421,-84.5428 937.084,-75.2612\"/>\r\n",
       "<polygon fill=\"black\" stroke=\"black\" points=\"939.544,-77.7511 944.332,-68.2996 934.695,-72.7027 939.544,-77.7511\"/>\r\n",
       "</g>\r\n",
       "</g>\r\n",
       "</svg>\r\n"
      ],
      "text/plain": [
       "<graphviz.files.Source at 0x28829cb1d30>"
      ]
     },
     "execution_count": 30,
     "metadata": {},
     "output_type": "execute_result"
    }
   ],
   "source": [
    "dot_data = export_graphviz(clf_quick_dt, out_file=None, feature_names=t_train_data.keys(), class_names= ['Died', 'Survived'], filled=True, rounded=True, special_characters=True)\n",
    "graph = graphviz.Source(dot_data)\n",
    "graph"
   ]
  },
  {
   "cell_type": "code",
   "execution_count": 31,
   "metadata": {},
   "outputs": [
    {
     "data": {
      "image/png": "[encoded data removed]",
      "text/plain": [
       "<Figure size 432x288 with 2 Axes>"
      ]
     },
     "metadata": {
      "needs_background": "light"
     },
     "output_type": "display_data"
    }
   ],
   "source": [
    "cnf_matrix = confusion_matrix(t_test_tgt, pred_quick_dt)\n",
    "np.set_printoptions(precision=2)\n",
    "\n",
    "plt.figure()\n",
    "plot_confusion_matrix(cnf_matrix, classes=['Died', 'Survived'],\n",
    "                      title='Confusion matrix, \\n Standard Decision Tree')"
   ]
  },
  {
   "cell_type": "code",
   "execution_count": 32,
   "metadata": {},
   "outputs": [
    {
     "name": "stdout",
     "output_type": "stream",
     "text": [
      "              precision    recall  f1-score   support\n",
      "\n",
      "        Died       0.77      0.91      0.83       165\n",
      "    Survived       0.79      0.55      0.65       103\n",
      "\n",
      "   micro avg       0.77      0.77      0.77       268\n",
      "   macro avg       0.78      0.73      0.74       268\n",
      "weighted avg       0.78      0.77      0.76       268\n",
      "\n"
     ]
    }
   ],
   "source": [
    "print(classification_report(t_test_tgt, pred_quick_dt, target_names=['Died', 'Survived']))"
   ]
  },
  {
   "cell_type": "code",
   "execution_count": 33,
   "metadata": {},
   "outputs": [
    {
     "data": {
      "text/plain": [
       "0.731244483671668"
      ]
     },
     "execution_count": 33,
     "metadata": {},
     "output_type": "execute_result"
    }
   ],
   "source": [
    "#Area Under the Receiver Operating Characteristic Curve (ROC AUC) from prediction scores.\n",
    "roc_auc_score(t_test_tgt, pred_quick_dt)"
   ]
  },
  {
   "cell_type": "code",
   "execution_count": 34,
   "metadata": {},
   "outputs": [
    {
     "data": {
      "text/plain": [
       "0.7723880597014925"
      ]
     },
     "execution_count": 34,
     "metadata": {},
     "output_type": "execute_result"
    }
   ],
   "source": [
    "# accuracy of model\n",
    "accuracy_score(t_test_tgt, pred_quick_dt)"
   ]
  },
  {
   "cell_type": "markdown",
   "metadata": {},
   "source": [
    "## Gradient Boosted Classifier"
   ]
  },
  {
   "cell_type": "code",
   "execution_count": 35,
   "metadata": {},
   "outputs": [],
   "source": [
    "clf_gbc = GradientBoostingClassifier()\n",
    "clf_gbc = clf_gbc.fit(t_train_data, t_train_tgt)"
   ]
  },
  {
   "cell_type": "code",
   "execution_count": 36,
   "metadata": {},
   "outputs": [],
   "source": [
    "pred_gbc = clf_gbc.predict(t_test_data)"
   ]
  },
  {
   "cell_type": "code",
   "execution_count": 37,
   "metadata": {},
   "outputs": [
    {
     "data": {
      "image/png": "[encoded data removed]",
      "text/plain": [
       "<Figure size 432x288 with 2 Axes>"
      ]
     },
     "metadata": {
      "needs_background": "light"
     },
     "output_type": "display_data"
    }
   ],
   "source": [
    "cnf_matrix = confusion_matrix(t_test_tgt, pred_gbc)\n",
    "np.set_printoptions(precision=2)\n",
    "\n",
    "plt.figure()\n",
    "plot_confusion_matrix(cnf_matrix, classes=['Died', 'Survived'],\n",
    "                      title='Confusion matrix, \\n Gradient Boosted Classifier')"
   ]
  },
  {
   "cell_type": "code",
   "execution_count": 38,
   "metadata": {},
   "outputs": [
    {
     "name": "stdout",
     "output_type": "stream",
     "text": [
      "              precision    recall  f1-score   support\n",
      "\n",
      "        Died       0.87      0.87      0.87       165\n",
      "    Survived       0.79      0.79      0.79       103\n",
      "\n",
      "   micro avg       0.84      0.84      0.84       268\n",
      "   macro avg       0.83      0.83      0.83       268\n",
      "weighted avg       0.84      0.84      0.84       268\n",
      "\n"
     ]
    }
   ],
   "source": [
    "print(classification_report(t_test_tgt, pred_gbc, target_names=['Died', 'Survived']))"
   ]
  },
  {
   "cell_type": "code",
   "execution_count": 39,
   "metadata": {},
   "outputs": [
    {
     "data": {
      "text/plain": [
       "0.8295675198587821"
      ]
     },
     "execution_count": 39,
     "metadata": {},
     "output_type": "execute_result"
    }
   ],
   "source": [
    "#Area Under the Receiver Operating Characteristic Curve (ROC AUC) from prediction scores.\n",
    "roc_auc_score(t_test_tgt, pred_gbc)"
   ]
  },
  {
   "cell_type": "code",
   "execution_count": 40,
   "metadata": {},
   "outputs": [
    {
     "data": {
      "text/plain": [
       "0.8395522388059702"
      ]
     },
     "execution_count": 40,
     "metadata": {},
     "output_type": "execute_result"
    }
   ],
   "source": [
    "# accuracy of model\n",
    "accuracy_score(t_test_tgt, pred_gbc)"
   ]
  },
  {
   "cell_type": "markdown",
   "metadata": {},
   "source": [
    "## Random Forest"
   ]
  },
  {
   "cell_type": "code",
   "execution_count": 41,
   "metadata": {},
   "outputs": [],
   "source": [
    "clf_rf = RandomForestClassifier(n_estimators=200)\n",
    "clf_rf = clf_rf.fit(t_train_data, t_train_tgt)"
   ]
  },
  {
   "cell_type": "code",
   "execution_count": 42,
   "metadata": {},
   "outputs": [],
   "source": [
    "pred_rf = clf_rf.predict(t_test_data)"
   ]
  },
  {
   "cell_type": "code",
   "execution_count": 43,
   "metadata": {},
   "outputs": [
    {
     "data": {
      "image/png": "[encoded data removed]",
      "text/plain": [
       "<Figure size 432x288 with 2 Axes>"
      ]
     },
     "metadata": {
      "needs_background": "light"
     },
     "output_type": "display_data"
    }
   ],
   "source": [
    "cnf_matrix = confusion_matrix(t_test_tgt, pred_rf)\n",
    "np.set_printoptions(precision=2)\n",
    "\n",
    "plt.figure()\n",
    "plot_confusion_matrix(cnf_matrix, classes=['Died', 'Survived'],\n",
    "                      title='Confusion matrix, \\n Random Forest (200 trees)')"
   ]
  },
  {
   "cell_type": "code",
   "execution_count": 44,
   "metadata": {},
   "outputs": [
    {
     "name": "stdout",
     "output_type": "stream",
     "text": [
      "              precision    recall  f1-score   support\n",
      "\n",
      "        Died       0.84      0.82      0.83       165\n",
      "    Survived       0.73      0.75      0.74       103\n",
      "\n",
      "   micro avg       0.79      0.79      0.79       268\n",
      "   macro avg       0.78      0.79      0.78       268\n",
      "weighted avg       0.80      0.79      0.80       268\n",
      "\n"
     ]
    }
   ],
   "source": [
    "print(classification_report(t_test_tgt, pred_rf, target_names=['Died', 'Survived']))"
   ]
  },
  {
   "cell_type": "code",
   "execution_count": 45,
   "metadata": {},
   "outputs": [
    {
     "data": {
      "text/plain": [
       "0.7859076198882025"
      ]
     },
     "execution_count": 45,
     "metadata": {},
     "output_type": "execute_result"
    }
   ],
   "source": [
    "#Area Under the Receiver Operating Characteristic Curve (ROC AUC) from prediction scores.\n",
    "roc_auc_score(t_test_tgt, pred_rf)"
   ]
  },
  {
   "cell_type": "code",
   "execution_count": 46,
   "metadata": {},
   "outputs": [
    {
     "data": {
      "text/plain": [
       "0.7947761194029851"
      ]
     },
     "execution_count": 46,
     "metadata": {},
     "output_type": "execute_result"
    }
   ],
   "source": [
    "# accuracy of model\n",
    "accuracy_score(t_test_tgt, pred_rf)"
   ]
  },
  {
   "cell_type": "markdown",
   "metadata": {},
   "source": [
    "## Bagging Classifier"
   ]
  },
  {
   "cell_type": "code",
   "execution_count": 47,
   "metadata": {},
   "outputs": [],
   "source": [
    "clf_bag = BaggingClassifier()\n",
    "clf_bag = clf_bag.fit(t_train_data, t_train_tgt)"
   ]
  },
  {
   "cell_type": "code",
   "execution_count": 48,
   "metadata": {},
   "outputs": [],
   "source": [
    "pred_bag = clf_bag.predict(t_test_data)"
   ]
  },
  {
   "cell_type": "code",
   "execution_count": 49,
   "metadata": {},
   "outputs": [
    {
     "data": {
      "image/png": "[encoded data removed]",
      "text/plain": [
       "<Figure size 432x288 with 2 Axes>"
      ]
     },
     "metadata": {
      "needs_background": "light"
     },
     "output_type": "display_data"
    }
   ],
   "source": [
    "cnf_matrix = confusion_matrix(t_test_tgt, pred_bag)\n",
    "np.set_printoptions(precision=2)\n",
    "\n",
    "plt.figure()\n",
    "plot_confusion_matrix(cnf_matrix, classes=['Died', 'Survived'],\n",
    "                      title='Confusion matrix, \\n Bagging Calssifier')"
   ]
  },
  {
   "cell_type": "code",
   "execution_count": 50,
   "metadata": {},
   "outputs": [
    {
     "name": "stdout",
     "output_type": "stream",
     "text": [
      "              precision    recall  f1-score   support\n",
      "\n",
      "        Died       0.85      0.81      0.83       165\n",
      "    Survived       0.71      0.77      0.74       103\n",
      "\n",
      "   micro avg       0.79      0.79      0.79       268\n",
      "   macro avg       0.78      0.79      0.78       268\n",
      "weighted avg       0.80      0.79      0.79       268\n",
      "\n"
     ]
    }
   ],
   "source": [
    "print(classification_report(t_test_tgt, pred_bag, target_names=['Died', 'Survived']))"
   ]
  },
  {
   "cell_type": "code",
   "execution_count": 51,
   "metadata": {},
   "outputs": [
    {
     "data": {
      "text/plain": [
       "0.786525448661371"
      ]
     },
     "execution_count": 51,
     "metadata": {},
     "output_type": "execute_result"
    }
   ],
   "source": [
    "#Area Under the Receiver Operating Characteristic Curve (ROC AUC) from prediction scores.\n",
    "roc_auc_score(t_test_tgt, pred_bag)"
   ]
  },
  {
   "cell_type": "code",
   "execution_count": 52,
   "metadata": {},
   "outputs": [
    {
     "data": {
      "text/plain": [
       "0.7910447761194029"
      ]
     },
     "execution_count": 52,
     "metadata": {},
     "output_type": "execute_result"
    }
   ],
   "source": [
    "# accuracy of model\n",
    "accuracy_score(t_test_tgt, pred_bag)"
   ]
  },
  {
   "cell_type": "code",
   "execution_count": null,
   "metadata": {},
   "outputs": [],
   "source": []
  }
 ],
 "metadata": {
  "kernelspec": {
   "display_name": "Python 3",
   "language": "python",
   "name": "python3"
  },
  "language_info": {
   "codemirror_mode": {
    "name": "ipython",
    "version": 3
   },
   "file_extension": ".py",
   "mimetype": "text/x-python",
   "name": "python",
   "nbconvert_exporter": "python",
   "pygments_lexer": "ipython3",
   "version": "3.6.5"
  }
 },
 "nbformat": 4,
 "nbformat_minor": 2
}
