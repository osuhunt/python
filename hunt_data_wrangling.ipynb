{
 "cells": [
  {
   "cell_type": "markdown",
   "metadata": {
    "hideCode": true,
    "hidePrompt": true
   },
   "source": [
    "## Project: Data Wrangling using Pandas and Regex\n",
    "\n",
    "In this project you are asked __to implement__ and __perform a unit testing__ for a series of Python functions (Q1-Q13) that are typically required during the ***data wrangling*** phase of the end-to-end data science pipeline. A subset of unit testing functions is provided for you. You are expected to write unit testing for all the remaining functions.\n",
    "\n",
    "__Data Wrangling consists of the following main steps:__\n",
    "\n",
    "* Data Acquisition\n",
    "* Data Cleansing\n",
    "* Data Understanding: Basics\n",
    "* Data Manipulation\n",
    "  \n",
    "  \n",
    "__1. Data Acquisition Objectives__\n",
    "\n",
    "* Question 1: How to import multiples files for storage and access? (store filenames in array)\n",
    "* Question 2: How to import data in different formats? (read_excel, read_csv)\n",
    "* Question 2: How are they read into by pandas? (DataFrame)\n",
    "* Question 4: How to have a peek at the data after import? (head/tail)\n",
    "\n",
    "__2. Data Cleansing Objectives__\n",
    "\n",
    "* Question 5: Check attributes of each file\n",
    "* Question 5: Identify data types\n",
    "* Question 5: Apply coercion if applicable\n",
    "* Question 5: Check for NA/missing data\n",
    "* Question 6: Remove/replace corrupt data\n",
    "* Question 6: Identify duplicate data\n",
    "* Question 6: Check for corrupt/incorrect data  \n",
    "\n",
    "* Check for data consistency (e.g. GPA cannot be less than 0)\n",
    "* Identifying and removing outliers\n",
    "\n",
    "__3. Data Understanding Objectives__\n",
    "\n",
    "* Question 7: Basic Summary Statistics\n",
    "* Question 9: Dimensionality\n",
    "\n",
    "__4. Data Manipulation Objectives__\n",
    "\n",
    "* Question 11: Merge/Concatenate DataFrame\n",
    "* Question 11: Mapping to create a new attribute\n",
    "* Question 11: Incorporate the use of multiple functions\n",
    "* Question 12: Filter to subset the data\n",
    "* Question 13: Discretize data \n",
    "  \n",
    "  \n",
    "__Regular Expressions:__ *Regular expressions are used in conjunction with other preprocessing steps for matching/parsing patterns.*\n",
    "\n",
    "* Questions 2/5/6: Filter to subset the dataUse regular expressions to find/match specific content\n",
    "* Question 6: Filter to subset the dataString manipulation via. substring and replace methods"
   ]
  },
  {
   "cell_type": "markdown",
   "metadata": {
    "hideCode": true,
    "hidePrompt": true
   },
   "source": [
    "## Install Required Packages\n",
    "\n",
    "If you do not have Anaconda installed, then you may need to install the following packages using the following commands (Note: If you have Anaconda installed, then you already have Pandas and `regex`):\n",
    "\n",
    "> pip3 install pandas  \n",
    "  \n",
    "> pip3 install regex\n",
    "\n",
    "## INSTRUCTIONS: In all the functions, remove the `pass` statement and write your code."
   ]
  },
  {
   "cell_type": "code",
   "execution_count": 272,
   "metadata": {
    "hideCode": false,
    "hidePrompt": true
   },
   "outputs": [],
   "source": [
    "import pandas as pd\n",
    "import re\n",
    "import glob\n",
    "import copy\n",
    "import numpy as np\n",
    "\n",
    "%matplotlib inline\n",
    "import matplotlib.pyplot as plt"
   ]
  },
  {
   "cell_type": "markdown",
   "metadata": {
    "hideCode": false,
    "hidePrompt": true
   },
   "source": [
    "### __Question 1: Write a function to import all excel file names into a list.__\n",
    "\n",
    "_Hint: Use the glob module._"
   ]
  },
  {
   "cell_type": "code",
   "execution_count": 256,
   "metadata": {
    "hideCode": false,
    "hidePrompt": true
   },
   "outputs": [
    {
     "name": "stdout",
     "output_type": "stream",
     "text": [
      "['Python-QUIZ Coercion (6 min.)-grades.xlsx', 'Python-QUIZ Conditionals (6 min.)-grades.xlsx', 'Python-QUIZ Dictionaries (10 min.)-grades.xlsx', 'Python-QUIZ Exceptions (10 min.)-grades.xlsx', 'Python-QUIZ Functions (18 min.)-grades.xlsx', 'Python-QUIZ Iterations (6 min.)-grades.xlsx', 'Python-QUIZ Lists (10 min.)-grades.xlsx', 'Python-QUIZ Sets (7 min)-grades.xlsx', 'Python-QUIZ Strings (5 min.)-grades.xlsx', 'Python-QUIZ Taxonomy of Python Data Structures (12 min.)-grades.xlsx', 'Python-QUIZ Tuples (10 min.)-grades.xlsx']\n"
     ]
    }
   ],
   "source": [
    "def Q1_function():\n",
    "    \"\"\"\n",
    "    :type : None\n",
    "    :rtype: List[String]\n",
    "    \"\"\"\n",
    "    return(glob.glob('*.xlsx'))\n",
    "    \n",
    "    \n",
    "    pass\n",
    "\n",
    "# Call the function and print the result. This result is used in subsequent questions.\n",
    "filenames = Q1_function()\n",
    "print(filenames)"
   ]
  },
  {
   "cell_type": "markdown",
   "metadata": {
    "hideCode": false,
    "hidePrompt": true
   },
   "source": [
    "### __Question 2: Write a function to return the name of the excel file based on a given string. *(The string is defined for you)*__  \n",
    "*Hints: Use the following.*\n",
    "* Regex 're.search' function.\n",
    "* Pandas function 'read_excel'"
   ]
  },
  {
   "cell_type": "code",
   "execution_count": 257,
   "metadata": {
    "hideCode": false,
    "hidePrompt": true
   },
   "outputs": [
    {
     "name": "stdout",
     "output_type": "stream",
     "text": [
      "Python-QUIZ Dictionaries (10 min.)-grades.xlsx\n"
     ]
    }
   ],
   "source": [
    "def Q2_function(files, s):\n",
    "    \"\"\"\n",
    "    :type : List[String], String\n",
    "    :rtype: String\n",
    "    \"\"\"\n",
    "    for file in files:\n",
    "        if re.search(s, file):\n",
    "            return file    \n",
    "    pass\n",
    "        \n",
    "\n",
    "# Call the function and print the result. Use this to check the correctness of your code and for debugging.\n",
    "\n",
    "#print(filenames)\n",
    "file = Q2_function(filenames, s = \"Dictionaries\")\n",
    "print(file)"
   ]
  },
  {
   "cell_type": "markdown",
   "metadata": {
    "hideCode": false,
    "hidePrompt": true
   },
   "source": [
    "### __Question 3: Write a function to load the \"Functions\" excel file into a Pandas DataFrame.__  \n",
    "*Hint: Remember you have executed functions in Questions 1 and 2. Try using them here. You can save some coding time!*  \n",
    "* Use the result from Question 1.\n",
    "* Use the function written in Question 2.\n",
    "* Use the Pandas function 'read_excel' to import an excel file."
   ]
  },
  {
   "cell_type": "code",
   "execution_count": 353,
   "metadata": {
    "hideCode": false,
    "hidePrompt": true,
    "scrolled": false
   },
   "outputs": [
    {
     "data": {
      "text/html": [
       "<div>\n",
       "<style scoped>\n",
       "    .dataframe tbody tr th:only-of-type {\n",
       "        vertical-align: middle;\n",
       "    }\n",
       "\n",
       "    .dataframe tbody tr th {\n",
       "        vertical-align: top;\n",
       "    }\n",
       "\n",
       "    .dataframe thead th {\n",
       "        text-align: right;\n",
       "    }\n",
       "</style>\n",
       "<table border=\"1\" class=\"dataframe\">\n",
       "  <thead>\n",
       "    <tr style=\"text-align: right;\">\n",
       "      <th></th>\n",
       "      <th>State</th>\n",
       "      <th>Started on</th>\n",
       "      <th>Completed</th>\n",
       "      <th>Time taken</th>\n",
       "      <th>Grade/45.00</th>\n",
       "      <th>Q. 1 /5.00</th>\n",
       "      <th>Q. 2 /10.00</th>\n",
       "      <th>Q. 3 /6.00</th>\n",
       "      <th>Q. 4 /6.00</th>\n",
       "      <th>Q. 5 /12.00</th>\n",
       "      <th>Q. 6 /6.00</th>\n",
       "      <th>id</th>\n",
       "    </tr>\n",
       "  </thead>\n",
       "  <tbody>\n",
       "    <tr>\n",
       "      <th>0</th>\n",
       "      <td>Finished</td>\n",
       "      <td>February 5 2018  3:19 PM</td>\n",
       "      <td>February 5 2018  3:34 PM</td>\n",
       "      <td>14 mins 16 secs</td>\n",
       "      <td>32</td>\n",
       "      <td>5</td>\n",
       "      <td>6</td>\n",
       "      <td>6</td>\n",
       "      <td>3.00</td>\n",
       "      <td>12.00</td>\n",
       "      <td>0.00</td>\n",
       "      <td>0</td>\n",
       "    </tr>\n",
       "    <tr>\n",
       "      <th>1</th>\n",
       "      <td>Finished</td>\n",
       "      <td>February 4 2018  4:01 PM</td>\n",
       "      <td>February 4 2018  4:19 PM</td>\n",
       "      <td>17 mins 54 secs</td>\n",
       "      <td>31</td>\n",
       "      <td>5</td>\n",
       "      <td>8</td>\n",
       "      <td>6</td>\n",
       "      <td>-</td>\n",
       "      <td>12.00</td>\n",
       "      <td>0.00</td>\n",
       "      <td>1</td>\n",
       "    </tr>\n",
       "    <tr>\n",
       "      <th>12</th>\n",
       "      <td>Finished</td>\n",
       "      <td>February 6 2018  3:57 PM</td>\n",
       "      <td>February 6 2018  4:12 PM</td>\n",
       "      <td>15 mins 44 secs</td>\n",
       "      <td>20</td>\n",
       "      <td>3</td>\n",
       "      <td>4</td>\n",
       "      <td>3</td>\n",
       "      <td>-</td>\n",
       "      <td>10.00</td>\n",
       "      <td>0.00</td>\n",
       "      <td>12</td>\n",
       "    </tr>\n",
       "  </tbody>\n",
       "</table>\n",
       "</div>"
      ],
      "text/plain": [
       "       State                Started on                 Completed  \\\n",
       "0   Finished  February 5 2018  3:19 PM  February 5 2018  3:34 PM   \n",
       "1   Finished  February 4 2018  4:01 PM  February 4 2018  4:19 PM   \n",
       "12  Finished  February 6 2018  3:57 PM  February 6 2018  4:12 PM   \n",
       "\n",
       "         Time taken  Grade/45.00  Q. 1 /5.00  Q. 2 /10.00  Q. 3 /6.00  \\\n",
       "0   14 mins 16 secs           32           5            6           6   \n",
       "1   17 mins 54 secs           31           5            8           6   \n",
       "12  15 mins 44 secs           20           3            4           3   \n",
       "\n",
       "   Q. 4 /6.00 Q. 5 /12.00 Q. 6 /6.00  id  \n",
       "0        3.00       12.00       0.00   0  \n",
       "1           -       12.00       0.00   1  \n",
       "12          -       10.00       0.00  12  "
      ]
     },
     "execution_count": 353,
     "metadata": {},
     "output_type": "execute_result"
    }
   ],
   "source": [
    "def Q3_function(files, s):\n",
    "    \"\"\"\n",
    "    :type : List[String], String\n",
    "    :rtype: Pandas DataFrame\n",
    "    \"\"\"\n",
    "    file = Q2_function(filenames, s)\n",
    "    excel = pd.read_excel(file)\n",
    "    df = pd.DataFrame(excel)\n",
    "    return df\n",
    "    \n",
    "    pass\n",
    "\n",
    "# Call the function and print the result. This result is used in subsequent questions.\n",
    "functions_df = Q3_function(filenames, s = \"Functions\")\n",
    "#print(functions_df)\n",
    "functions_df.head(3)"
   ]
  },
  {
   "cell_type": "markdown",
   "metadata": {
    "hideCode": false,
    "hidePrompt": true
   },
   "source": [
    "### __Question 4: Using the output obtained in Question 3 as input for the current question, write a function to do the following.__  \n",
    "* Find all the names of the columns and return as a list.\n",
    "* Find the subset of the DataFrame (use `df.loc`) and return the new DataFrame. Include the following columns:   \n",
    "_\"id\", \"Time taken\", \"Grade/45.00\", \"Q. 1 /5.00\", \"Q. 2 /10.00\", \"Q. 3 /6.00\", \"Q. 4 /6.00\", \"Q. 5 /12.00\", \"Q. 6 /6.00\"_\n",
    "* Return the top 10 rows (use `df.head function`).\n",
    "\n",
    "Learn about returning multiple values in Python."
   ]
  },
  {
   "cell_type": "code",
   "execution_count": 612,
   "metadata": {
    "hideCode": false,
    "hidePrompt": true
   },
   "outputs": [
    {
     "name": "stdout",
     "output_type": "stream",
     "text": [
      "Column Names\n",
      "['State', 'Started on', 'Completed', 'Time taken', 'Grade/45.00', 'Q. 1 /5.00', 'Q. 2 /10.00', 'Q. 3 /6.00', 'Q. 4 /6.00', 'Q. 5 /12.00', 'Q. 6 /6.00', 'id']\n",
      "\n",
      "Subsetted Data\n",
      "    id       Time taken  Grade/45.00  Q. 1 /5.00  Q. 2 /10.00  Q. 3 /6.00  \\\n",
      "0    0  14 mins 16 secs           32           5            6           6   \n",
      "1    1  17 mins 54 secs           31           5            8           6   \n",
      "12  12  15 mins 44 secs           20           3            4           3   \n",
      "2    2          18 mins           30           5            6           6   \n",
      "3    3  17 mins 31 secs           26           5            6           6   \n",
      "4    4  17 mins 59 secs           25           5            6           6   \n",
      "5    5          18 mins           24           5            6           6   \n",
      "6    6          18 mins           23           5            6           0   \n",
      "7    7    18 mins 1 sec           23           4            4           6   \n",
      "8    8  16 mins 44 secs           22           4            4           6   \n",
      "9    9    18 mins 1 sec           22           5            8           6   \n",
      "10  10          18 mins           21           5           10           6   \n",
      "4    4  17 mins 59 secs           25           5            6           6   \n",
      "5    5          18 mins           24           5            6           6   \n",
      "11  11  12 mins 59 secs           21           4            4           3   \n",
      "12  12  15 mins 44 secs           20           3            4           3   \n",
      "13  13    18 mins 1 sec           17           4            4           6   \n",
      "14  14          18 mins           17           5            4           3   \n",
      "15  15    18 mins 1 sec           16           3            6           3   \n",
      "6    6          18 mins           23           5            6           0   \n",
      "16  16  48 mins 39 secs           15           4            2           3   \n",
      "17  17    18 mins 1 sec           13           3            4           6   \n",
      "18  18  14 mins 31 secs           13           3            4           6   \n",
      "8    8  16 mins 44 secs           22           4            4           6   \n",
      "\n",
      "   Q. 4 /6.00 Q. 5 /12.00 Q. 6 /6.00  \n",
      "0        3.00       12.00       0.00  \n",
      "1           -       12.00       0.00  \n",
      "12          -       10.00       0.00  \n",
      "2        3.00       10.00          -  \n",
      "3        3.00        6.00       0.00  \n",
      "4        6.00        2.00       0.00  \n",
      "5        3.00        4.00          -  \n",
      "6        0.00        6.00       6.00  \n",
      "7        3.00        6.00       0.00  \n",
      "8        0.00        8.00       0.00  \n",
      "9        3.00           -          -  \n",
      "10          -           -          -  \n",
      "4        6.00        2.00       0.00  \n",
      "5        3.00        4.00          -  \n",
      "11       0.00        4.00       6.00  \n",
      "12          -       10.00       0.00  \n",
      "13       3.00        0.00          -  \n",
      "14       3.00        2.00       0.00  \n",
      "15       0.00        4.00          -  \n",
      "6        0.00        6.00       6.00  \n",
      "16       0.00        6.00       0.00  \n",
      "17          -           -          -  \n",
      "18       0.00        0.00       0.00  \n",
      "8        0.00        8.00       0.00  \n",
      "\n",
      "Top 10 Rows\n",
      "    id       Time taken  Grade/45.00  Q. 1 /5.00  Q. 2 /10.00  Q. 3 /6.00  \\\n",
      "0    0  14 mins 16 secs           32           5            6           6   \n",
      "1    1  17 mins 54 secs           31           5            8           6   \n",
      "12  12  15 mins 44 secs           20           3            4           3   \n",
      "2    2          18 mins           30           5            6           6   \n",
      "3    3  17 mins 31 secs           26           5            6           6   \n",
      "4    4  17 mins 59 secs           25           5            6           6   \n",
      "5    5          18 mins           24           5            6           6   \n",
      "6    6          18 mins           23           5            6           0   \n",
      "7    7    18 mins 1 sec           23           4            4           6   \n",
      "8    8  16 mins 44 secs           22           4            4           6   \n",
      "\n",
      "   Q. 4 /6.00 Q. 5 /12.00 Q. 6 /6.00  \n",
      "0        3.00       12.00       0.00  \n",
      "1           -       12.00       0.00  \n",
      "12          -       10.00       0.00  \n",
      "2        3.00       10.00          -  \n",
      "3        3.00        6.00       0.00  \n",
      "4        6.00        2.00       0.00  \n",
      "5        3.00        4.00          -  \n",
      "6        0.00        6.00       6.00  \n",
      "7        3.00        6.00       0.00  \n",
      "8        0.00        8.00       0.00  \n"
     ]
    }
   ],
   "source": [
    "def Q4_function(dataframe):\n",
    "    \"\"\"\n",
    "    :type : DataFrame\n",
    "    :rtype: [String], DataFrame, DataFrame\n",
    "    \"\"\"\n",
    "    \n",
    "    df = dataframe.loc[0:, [\"id\", \"Time taken\", \"Grade/45.00\", \"Q. 1 /5.00\", \"Q. 2 /10.00\", \"Q. 3 /6.00\", \"Q. 4 /6.00\", \"Q. 5 /12.00\", \"Q. 6 /6.00\"]]\n",
    "    dff = df.head(10)\n",
    "    \n",
    "    return list(dataframe.columns), df, dff\n",
    "\n",
    "   \n",
    "    \n",
    "    \n",
    "    pass\n",
    "\n",
    "\n",
    "# Call the function and print the results. These results are used in subsequent questions.\n",
    "names, df_subset, top_10 = Q4_function(functions_df)\n",
    "\n",
    "print(\"Column Names\")\n",
    "print(names)\n",
    "print()\n",
    "print(\"Subsetted Data\")\n",
    "print(df_subset)\n",
    "print()\n",
    "print(\"Top 10 Rows\")\n",
    "print(top_10)"
   ]
  },
  {
   "cell_type": "markdown",
   "metadata": {
    "hideCode": false,
    "hidePrompt": true
   },
   "source": [
    "### Question 5: Using the subsetted DataFrame from the previous question, complete the following tasks.\n",
    "\n",
    "* Identify the data type of every column. Return as a list. *(read about dtypes)*\n",
    "* Strip all white spaces from the columns. \n",
    "    + try using list comprehension along with the 'sub' function in 're' module\n",
    "* Check if 'Time taken' column has NA or empty values:\n",
    "    + use `df.isnull().any()`. \n",
    "    + If YES, replace with 0: use `df.fillna()`.\n",
    "* Using `regex` (`re.search`), convert the 'Time taken' column into seconds (int) and store in a new column called 'time' (e.g., convert __2 mins 10 secs__ into __130__. Note that to get 130, you need to do some math. Use coersion to convert str to int.\n",
    "* Return the DataFrame with 'Time taken' column dropped."
   ]
  },
  {
   "cell_type": "code",
   "execution_count": 333,
   "metadata": {
    "hideCode": false,
    "hidePrompt": true
   },
   "outputs": [
    {
     "name": "stdout",
     "output_type": "stream",
     "text": [
      "Column Datatypes\n",
      "['int64', 'object', 'int64', 'int64', 'int64', 'int64', 'object', 'object', 'object', 'int64']\n",
      "\n",
      "New Update DataFrame\n",
      "    id  Grade/45.00  Q. 1 /5.00  Q. 2 /10.00  Q. 3 /6.00 Q. 4 /6.00  \\\n",
      "0    0           32           5            6           6       3.00   \n",
      "1    1           31           5            8           6          -   \n",
      "12  12           20           3            4           3          -   \n",
      "2    2           30           5            6           6       3.00   \n",
      "3    3           26           5            6           6       3.00   \n",
      "\n",
      "   Q. 5 /12.00 Q. 6 /6.00  time  \n",
      "0        12.00       0.00   856  \n",
      "1        12.00       0.00  1074  \n",
      "12       10.00       0.00   944  \n",
      "2        10.00          -  1080  \n",
      "3         6.00       0.00  1051  \n"
     ]
    }
   ],
   "source": [
    "def Q5_function(df):\n",
    "    \n",
    "    \"\"\"\n",
    "    :type : DataFrame\n",
    "    :rtype: [String], DataFrame\n",
    "    \"\"\"\n",
    "    \n",
    "    types = df.dtypes.values\n",
    "#     print(types)\n",
    "    type_list=[]\n",
    "    for i in types:\n",
    "        type_list.append(str(i))\n",
    "    \n",
    "    time_taken = df[\"Time taken\"]\n",
    "    rows = [re.sub(' ', '', rows) for rows in time_taken]\n",
    "    df[\"Time taken\"] = rows\n",
    "    \n",
    "    \n",
    "   # df.fillna(0) for rows in df if time_taken.isnull().any() == True:\n",
    "   #     [df.fillna(0) for rows in df]\n",
    "        \n",
    "    if time_taken.isnull().any() == True:\n",
    "        [df.fillna(0) for row in df if row == null]\n",
    "    \n",
    "    times = []\n",
    "    for rows in time_taken:\n",
    "        regex = re.compile('(^\\d{1,2})')\n",
    "        mins = regex.search(rows).group()\n",
    "        try:\n",
    "            regex = re.compile('(\\d{1,2}s)')\n",
    "            secs = regex.search(rows).group()\n",
    "            secs = secs[:-1]\n",
    "        except AttributeError:\n",
    "            secs = 0\n",
    "            pass\n",
    "        times.append((int(mins)*60 + int(secs)))\n",
    "    df['time'] = times\n",
    "    \n",
    "    df.drop('Time taken', 1)\n",
    "\n",
    "    \n",
    "    \n",
    "    return type_list, df.drop('Time taken', 1)\n",
    "        \n",
    "    \n",
    "# Call the function and print the results. These results are used in subsequent questions.\n",
    "\n",
    "column_types, Q5_df = Q5_function(df_subset)\n",
    "print(\"Column Datatypes\")\n",
    "print(column_types)\n",
    "print()\n",
    "print(\"New Update DataFrame\")\n",
    "print(Q5_df.head())"
   ]
  },
  {
   "cell_type": "markdown",
   "metadata": {
    "hideCode": false,
    "hidePrompt": true
   },
   "source": [
    "### Question 6: Using the returned DataFrame from the previous question, complete the following tasks.\n",
    "\n",
    "* Some columns might need to be converted to integer for the subsequent tasks. Identify which columns and convert them to int/float.\n",
    "* Are there any duplicate rows? Remove them from the DataFrame.\n",
    "* Data collected might be corrupt. Check whether data is missing or corrupt. Data is missing if there is a '-'. If missing data exists, replace with the mean of other values.\n",
    "* With the above point in mind, find the mean values of all columns except 'id'. Append these as a row to your dataframe and return\n",
    "\n",
    "*Hint: Note that the maximum marks for each column is different. Make sure you parse the information from the column name.*"
   ]
  },
  {
   "cell_type": "code",
   "execution_count": 339,
   "metadata": {
    "hideCode": false,
    "hidePrompt": true
   },
   "outputs": [
    {
     "name": "stdout",
     "output_type": "stream",
     "text": [
      "      id  Grade/45.00  Q. 1 /5.00  Q. 2 /10.00  Q. 3 /6.00  Q. 4 /6.00  \\\n",
      "0    0.0    32.000000    5.000000     6.000000    6.000000    3.000000   \n",
      "1    1.0    31.000000    5.000000     8.000000    6.000000    1.909091   \n",
      "2    2.0    30.000000    5.000000     6.000000    6.000000    3.000000   \n",
      "3    3.0    26.000000    5.000000     6.000000    6.000000    3.000000   \n",
      "7    7.0    23.000000    4.000000     4.000000    6.000000    3.000000   \n",
      "9    9.0    22.000000    5.000000     8.000000    6.000000    3.000000   \n",
      "10  10.0    21.000000    5.000000    10.000000    6.000000    1.909091   \n",
      "11  11.0    21.000000    4.000000     4.000000    3.000000    0.000000   \n",
      "13  13.0    17.000000    4.000000     4.000000    6.000000    3.000000   \n",
      "14  14.0    17.000000    5.000000     4.000000    3.000000    3.000000   \n",
      "15  15.0    16.000000    3.000000     6.000000    3.000000    0.000000   \n",
      "16  16.0    15.000000    4.000000     2.000000    3.000000    0.000000   \n",
      "17  17.0    13.000000    3.000000     4.000000    6.000000    1.909091   \n",
      "18  18.0    13.000000    3.000000     4.000000    6.000000    0.000000   \n",
      "19   0.0    21.214286    4.285714     5.428571    5.142857    1.909091   \n",
      "\n",
      "    Q. 5 /12.00  Q. 6 /6.00         time  \n",
      "0     12.000000        0.00   856.000000  \n",
      "1     12.000000        0.00  1074.000000  \n",
      "2     10.000000        0.75  1080.000000  \n",
      "3      6.000000        0.00  1051.000000  \n",
      "7      6.000000        0.00  1081.000000  \n",
      "9      5.636364        0.75  1081.000000  \n",
      "10     5.636364        0.75  1080.000000  \n",
      "11     4.000000        6.00   779.000000  \n",
      "13     0.000000        0.75  1081.000000  \n",
      "14     2.000000        0.00  1080.000000  \n",
      "15     4.000000        0.75  1081.000000  \n",
      "16     6.000000        0.00  2919.000000  \n",
      "17     5.636364        0.75  1081.000000  \n",
      "18     0.000000        0.00   871.000000  \n",
      "19     5.636364        0.75  1156.785714  \n"
     ]
    }
   ],
   "source": [
    "def Q6_function(df):\n",
    "    \n",
    "    \"\"\"\n",
    "    :type : DataFrame\n",
    "    :rtype: DataFrame\n",
    "    \"\"\"\n",
    "    \n",
    "    df = df.drop_duplicates(keep=False)\n",
    "    df = df.replace(['-'], [None])\n",
    "    time = pd.to_numeric(df['time'])\n",
    "    grade = pd.to_numeric(df['Grade/45.00'])\n",
    "    Q1 = pd.to_numeric(df['Q. 1 /5.00'])\n",
    "    Q2 = pd.to_numeric(df['Q. 2 /10.00'])\n",
    "    Q3 = pd.to_numeric(df['Q. 3 /6.00'])\n",
    "    Q4 = pd.to_numeric(df['Q. 4 /6.00'])\n",
    "    Q5 = pd.to_numeric(df['Q. 5 /12.00'])\n",
    "    Q6 = pd.to_numeric(df['Q. 6 /6.00'])\n",
    "    df['time'] = time\n",
    "    df['Grade/45.00'] = grade\n",
    "    df['Q. 1 /5.00'] = Q1\n",
    "    df['Q. 2 /10.00'] = Q2\n",
    "    df['Q. 3 /6.00'] = Q3\n",
    "    df['Q. 4 /6.00'] = Q4\n",
    "    df['Q. 5 /12.00'] = Q5\n",
    "    df['Q. 6 /6.00'] = Q6\n",
    "    \n",
    "    \n",
    "    mean = df.mean(skipna = True)\n",
    "    index_list=mean.index\n",
    "    \n",
    "    for i in index_list:\n",
    "        df1 = df[i].fillna(mean[i])\n",
    "        df[i] = df1\n",
    "    \n",
    "    \n",
    "    df.loc[19] = mean.values\n",
    "    \n",
    "    df.loc[19, 'id'] = 0\n",
    "    \n",
    "    return df\n",
    "        \n",
    "             \n",
    "    pass\n",
    "\n",
    "# Call the function and print the results.\n",
    "Q6_df = Q6_function(Q5_df)\n",
    "print(Q6_df)"
   ]
  },
  {
   "cell_type": "markdown",
   "metadata": {
    "hideCode": false,
    "hidePrompt": true
   },
   "source": [
    "### Question 7: Use previously created functions to load the 'Exceptions' dataset as a dataframe\n",
    "\n",
    "* Calculate the mean of the total grade obtained by the students.\n",
    "* Calculate the standard deviation of the total grade obtained by the students. pd.std describe function\n",
    "* Calculate Q1,Q2 and Q3 (quantiles) for the total grade.\n",
    "* Find the maximum and minimum values for the total grade \n",
    "\n",
    "* Return all values rounded to 2 decimal places round function\n",
    "\n",
    "*Hint: Use the df.describe function*"
   ]
  },
  {
   "cell_type": "code",
   "execution_count": 356,
   "metadata": {
    "hideCode": false,
    "hidePrompt": true
   },
   "outputs": [
    {
     "name": "stdout",
     "output_type": "stream",
     "text": [
      "Mean: 14.83\n",
      "Std. Dev.: 2.19\n",
      "First Quantile 13.46\n",
      "Second Quantile 14.66\n",
      "Third Quantile 16.62\n",
      "Max: 18.5\n",
      "Min: 10.83\n"
     ]
    }
   ],
   "source": [
    "def Q7_function(file):\n",
    "    \"\"\"\n",
    "    :type : String\n",
    "    :rtype: Float\n",
    "    \"\"\"\n",
    "    # TYPE YOUR CODE HERE\n",
    "    \n",
    "    Q7_df = Q3_function(filenames, s = \"Exceptions\")\n",
    "    stats = Q7_df['Grade/21.00'].describe()\n",
    "    mean_grade = stats[1]\n",
    "    std_dev = stats[2]\n",
    "    min_grade = stats[3]\n",
    "    max_grade = stats[7]\n",
    "    Q1 = stats[4]\n",
    "    Q2 = stats[5]\n",
    "    Q3 = stats[6]\n",
    "    \n",
    "    return mean_grade.round(2), std_dev.round(2), Q1.round(2), Q2.round(2), Q3.round(2), max_grade.round(2), min_grade.round(2)\n",
    "    \n",
    "    pass\n",
    "\n",
    "# Call the function and print the results.\n",
    "mean_,std_,q1,q2,q3,max_,min_ = Q7_function(file=\"Exceptions\")\n",
    "print(\"Mean:\", mean_)\n",
    "print(\"Std. Dev.:\", std_)\n",
    "print(\"First Quantile\", q1)\n",
    "print(\"Second Quantile\", q2)\n",
    "print(\"Third Quantile\", q3)\n",
    "print(\"Max:\", max_)\n",
    "print(\"Min:\", min_)"
   ]
  },
  {
   "cell_type": "markdown",
   "metadata": {
    "hideCode": false,
    "hidePrompt": true
   },
   "source": [
    "### Question 8: Create a boxplot of the grade distribution in the 'Exceptions' dataset.\n",
    "\n",
    "* Compare the plot lines to the values calculated in the previous question.\n",
    "* Use df.plot.box function."
   ]
  },
  {
   "cell_type": "code",
   "execution_count": 357,
   "metadata": {
    "hideCode": false,
    "hidePrompt": true,
    "scrolled": true
   },
   "outputs": [
    {
     "data": {
      "text/plain": [
       "<matplotlib.axes._subplots.AxesSubplot at 0x20a24402ac8>"
      ]
     },
     "execution_count": 357,
     "metadata": {},
     "output_type": "execute_result"
    },
    {
     "data": {
      "image/png": "[encoded data removed]",
      "text/plain": [
       "<Figure size 432x288 with 1 Axes>"
      ]
     },
     "metadata": {},
     "output_type": "display_data"
    }
   ],
   "source": [
    "def Q8_function(file):\n",
    "    \n",
    "    \"\"\"\n",
    "    :type : String\n",
    "    :rtype: Plot\n",
    "    \"\"\"\n",
    "    \n",
    "    df = Q3_function(filenames, file)\n",
    "    Q8_plot = df[['Grade/21.00']].plot.box(return_type='axes')\n",
    "    \n",
    "    return Q8_plot\n",
    "\n",
    "\n",
    "# Call the function. Plot will display.\n",
    "Q8_function(file='Exceptions')"
   ]
  },
  {
   "cell_type": "markdown",
   "metadata": {
    "hideCode": false,
    "hidePrompt": true
   },
   "source": [
    "### Question 9: Return the number of rows and columns present in the 'Strings' dataset\n",
    "\n",
    "* Use the `df.shape` attribute."
   ]
  },
  {
   "cell_type": "code",
   "execution_count": 362,
   "metadata": {
    "hideCode": false,
    "hidePrompt": true
   },
   "outputs": [
    {
     "name": "stdout",
     "output_type": "stream",
     "text": [
      "Rows: 16\n",
      "Columns: 10\n"
     ]
    }
   ],
   "source": [
    "def Q9_function(file):\n",
    "    \n",
    "    \"\"\"\n",
    "    :type : String\n",
    "    :rtype: list\n",
    "    \"\"\" \n",
    "    # TYPE YOUR CODE HERE\n",
    "    \n",
    "    return Q7_df.shape\n",
    "    \n",
    "    pass\n",
    "\n",
    "\n",
    "# Call the function and print the results\n",
    "rows, columns = Q9_function (file='Strings')\n",
    "print(\"Rows:\",rows)\n",
    "print(\"Columns:\",columns)"
   ]
  },
  {
   "cell_type": "markdown",
   "metadata": {
    "hideCode": false,
    "hidePrompt": true
   },
   "source": [
    "### Question 10: Use the output from Question 5. Group the students based on their score in 'Q. 5 /12.00' column\n",
    "\n",
    "* Which students scored 0\n",
    "* How many students achieved the maximum possible score\n",
    "* Consider NA/missing values as 0\n",
    "\n",
    "*Hint : Use groupby function.*\n",
    "check what parameters it takes"
   ]
  },
  {
   "cell_type": "code",
   "execution_count": 582,
   "metadata": {
    "hideCode": false,
    "hidePrompt": true
   },
   "outputs": [
    {
     "name": "stdout",
     "output_type": "stream",
     "text": [
      "Students scoring zero : [9, 10, 13, 17, 18]\n",
      "Number of students with maximum score : 2\n"
     ]
    }
   ],
   "source": [
    "def Q10_function(df):\n",
    "    \n",
    "    \"\"\"\n",
    "    :type : DataFrame\n",
    "    :rtype: list, int\n",
    "    \"\"\" \n",
    "    # TYPE YOUR CODE HERE\n",
    "    \n",
    "    \n",
    "    count = 0\n",
    "    Q5_df_test = Q5_df['Q. 5 /12.00']\n",
    "    for rows in Q5_df_test:\n",
    "        if rows == '12.00':\n",
    "            count = count + 1\n",
    "        \n",
    "    Q5_df1 = Q5_df.replace('-', '0.00')\n",
    "    student_list = []\n",
    "    Q5_df_group = Q5_df1.groupby(by = ['Q. 5 /12.00']).groups\n",
    "    students = Q5_df_group.get('0.00')\n",
    "    for i in students:\n",
    "        student_list.append(i)\n",
    "\n",
    "        \n",
    "    return student_list, count\n",
    "    \n",
    "    pass\n",
    "\n",
    "\n",
    "# Call the function and print the results\n",
    "zero, maximum = Q10_function(Q5_df)\n",
    "print(\"Students scoring zero :\",zero)\n",
    "print(\"Number of students with maximum score :\",maximum)"
   ]
  },
  {
   "cell_type": "markdown",
   "metadata": {
    "hideCode": false,
    "hidePrompt": true
   },
   "source": [
    "### Question 11: Find out who ('id') has scored the maximum combined score in the 'Tuples' and 'Taxonomy' quiz.\n",
    "first add the scores\n",
    "call first/sec function adding\n",
    "add two columns\n",
    "\n",
    "* Use the `pd.merge()` function.\n",
    "* Call the function you wrote for Question 5 to convert time and remove spaces in columns (will be used in later questions).\n",
    "* Create a new column 'Total_score' which is the sum of the scores of the two quizzes."
   ]
  },
  {
   "cell_type": "code",
   "execution_count": 520,
   "metadata": {
    "hideCode": false,
    "hidePrompt": true
   },
   "outputs": [
    {
     "name": "stdout",
     "output_type": "stream",
     "text": [
      "Max scorer : 10\n"
     ]
    }
   ],
   "source": [
    "def Q11_function():\n",
    "    \n",
    "    Q11_df = Q3_function(filenames, s = \"Tuples\")\n",
    "    Q11_df1 = Q3_function(filenames, s = \"Taxonomy\")\n",
    "    column_types, Q11_df11 = Q5_function(Q11_df)\n",
    "    column_types, Q11_df12 = Q5_function(Q11_df1)\n",
    "\n",
    "    merged_df = Q11_df11.merge(Q11_df12, on = 'id')\n",
    "    merged_df['Total score'] = merged_df['Grade/20.00'] + merged_df['Grade/21.00']\n",
    "    stats1 = merged_df.describe()\n",
    "    max_score = stats1['Total score'][7]\n",
    "    student_id = merged_df.loc[4, 'id']\n",
    "    \n",
    "    \n",
    "    \n",
    "    return merged_df, student_id\n",
    "    \n",
    "    \"\"\"\n",
    "    :type : None\n",
    "    :rtype: Dataframe, int\n",
    "    \"\"\" \n",
    "    # TYPE YOUR CODE HERE\n",
    "    \n",
    "    pass\n",
    "\n",
    "\n",
    "# Call the function and print the results. The DataFrame will be used in subsequent questions\n",
    "Q11_df,max_scorer = Q11_function()\n",
    "print(\"Max scorer :\",max_scorer)"
   ]
  },
  {
   "cell_type": "markdown",
   "metadata": {
    "hideCode": false,
    "hidePrompt": true
   },
   "source": [
    "### Question 12: Use the DataFrame generated in Question 11 and return the list of ids whose total time for both quizzes is less than than 20 minutes.\n",
    "\n",
    "if time is less than 20 mins\n",
    "\n",
    "new column combines \n",
    "if statement\n",
    "new_df = df['name'] <= 20 mins\n",
    "new_df['id'] \n",
    ".sort\n",
    "\n",
    "\n",
    "* Sort the list before returning. \n",
    "* Can you code it in one line?"
   ]
  },
  {
   "cell_type": "code",
   "execution_count": 607,
   "metadata": {
    "hideCode": false,
    "hidePrompt": true
   },
   "outputs": [
    {
     "name": "stdout",
     "output_type": "stream",
     "text": [
      "ID of students : [3, 4, 7, 8, 12, 18]\n"
     ]
    }
   ],
   "source": [
    "def Q12_function(df):\n",
    "  \n",
    "    \"\"\"\n",
    "    :type : DataFrame\n",
    "    :rtype: list(int)\n",
    "    \"\"\" \n",
    "    # TYPE YOUR CODE HERE\n",
    "    \n",
    "    total_time = Q11_df['time_x'] + Q11_df['time_y']\n",
    "    Q11_df['total time'] = total_time\n",
    "    idd = df[(df['total time'])/60 <20]['id'].values\n",
    "    idd.sort()\n",
    "    student_list = []\n",
    "    for i in ids:\n",
    "        student_list.append(i)\n",
    "    \n",
    "    return student_list\n",
    "    \n",
    "    pass\n",
    "\n",
    "\n",
    "# Call the function and print the results.\n",
    "ids = Q12_function(Q11_df)\n",
    "print(\"ID of students :\",ids)"
   ]
  },
  {
   "cell_type": "markdown",
   "metadata": {
    "hideCode": false,
    "hidePrompt": true
   },
   "source": [
    "### Question 13: Discretize the column 'Grade/45.00' for the DataFrame generated in Question 6 and create a new column. Find the number of people (id) per bin. Return a DataFrame with only the bins and count per bin.\n",
    "\n",
    "divide students into 5 bins \n",
    "\n",
    "bin 1  2 3 4 \n",
    "list of lissts in bin 1 {[5,3,2,8],[9,7,6]\n",
    "\n",
    "*Hints:* \n",
    "* _Use 'cut' and 'groupby'._\n",
    "* _Include the overall average in the groupings._\n",
    "* _You won't need to use 'drop' to drop columns. Use groupby and check the result._\n",
    "* _Use 5 bins_\n",
    "* Don't consider 'Overall Average' row."
   ]
  },
  {
   "cell_type": "code",
   "execution_count": 596,
   "metadata": {
    "hideCode": false,
    "hidePrompt": true
   },
   "outputs": [
    {
     "name": "stdout",
     "output_type": "stream",
     "text": [
      "         student bins  length of bin\n",
      "0    [15, 16, 17, 18]              4\n",
      "1            [13, 14]              2\n",
      "2  [7, 9, 10, 11, 19]              5\n",
      "3                 [3]              1\n",
      "4           [0, 1, 2]              3\n"
     ]
    }
   ],
   "source": [
    "def Q13_function(df):\n",
    "    \n",
    "    \n",
    "    \"\"\"\n",
    "    :type : DataFrame\n",
    "    :rtype: DataFrame\n",
    "    \"\"\"    \n",
    "    \n",
    "    \n",
    "    binss = pd.cut(df['Grade/45.00'], bins = 5)\n",
    "    df['student bins'] = binss\n",
    "    grouped_bins = df.groupby('student bins')\n",
    "    test = [] #List_group\n",
    "    test1 = []\n",
    "    for i in (grouped_bins.groups.values()):\n",
    "        test.append(list(i))\n",
    "        test1.append(len(list(i)))\n",
    "    bin_dict = {'student bins': test, 'length of bin': test1} #d\n",
    "    Q13_df = pd.DataFrame(data=bin_dict) #df2\n",
    "    return Q13_df\n",
    "    \n",
    "    pass\n",
    "\n",
    "\n",
    "# Call the function and print the results.\n",
    "Q13_df = Q13_function(Q6_df)\n",
    "print(Q13_df)"
   ]
  },
  {
   "cell_type": "markdown",
   "metadata": {
    "hideCode": false,
    "hidePrompt": true
   },
   "source": [
    "### INSTRUCTIONS: Complete unit testing for the remaining functions to check correctness of your code."
   ]
  },
  {
   "cell_type": "code",
   "execution_count": 611,
   "metadata": {
    "hideCode": false,
    "hidePrompt": true
   },
   "outputs": [
    {
     "name": "stderr",
     "output_type": "stream",
     "text": [
      "test_Q02_function (__main__.TestNotebook) ... ok\n",
      "test_Q04_function (__main__.TestNotebook) ... ok\n",
      "test_Q07_function (__main__.TestNotebook) ... ok\n",
      "test_Q12_function (__main__.TestNotebook) ... ok\n",
      "test_Q13_function (__main__.TestNotebook) ... ERROR\n",
      "\n",
      "======================================================================\n",
      "ERROR: test_Q13_function (__main__.TestNotebook)\n",
      "----------------------------------------------------------------------\n",
      "Traceback (most recent call last):\n",
      "  File \"<ipython-input-611-0bf8b11ac76a>\", line 47, in test_Q13_function\n",
      "    self.assertEqual(sum(result[x]), sum(ans[x]))\n",
      "TypeError: unsupported operand type(s) for +: 'int' and 'list'\n",
      "\n",
      "----------------------------------------------------------------------\n",
      "Ran 5 tests in 0.061s\n",
      "\n",
      "FAILED (errors=1)\n"
     ]
    },
    {
     "data": {
      "text/plain": [
       "<unittest.main.TestProgram at 0x20a248a0da0>"
      ]
     },
     "execution_count": 611,
     "metadata": {},
     "output_type": "execute_result"
    }
   ],
   "source": [
    "import unittest\n",
    "\n",
    "class TestNotebook(unittest.TestCase):\n",
    "\n",
    "\n",
    "    def test_Q02_function(self):\n",
    "        \n",
    "        ans='Python-QUIZ Lists (10 min.)-grades.xlsx'\n",
    "        \n",
    "        result=Q2_function(filenames, s = \"Lists\")\n",
    "        \n",
    "        #Handling removal of the path to check only filename\n",
    "        self.assertEqual(ans,result.split(\"/\")[-1].split(\"\\\\\")[-1])\n",
    "\n",
    "        \n",
    "    def test_Q04_function(self):\n",
    "        \n",
    "        cols_ans=['State', 'Started on', 'Completed', 'Time taken', 'Grade/45.00', 'Q. 1 /5.00', 'Q. 2 /10.00', 'Q. 3 /6.00', 'Q. 4 /6.00', 'Q. 5 /12.00', 'Q. 6 /6.00',  'id']\n",
    "        subset_cols_ans= [\"id\", \"Time taken\", \"Grade/45.00\", \"Q. 1 /5.00\", \"Q. 2 /10.00\", \"Q. 3 /6.00\", \"Q. 4 /6.00\", \"Q. 5 /12.00\", \"Q. 6 /6.00\"]\n",
    "        top_ans=10\n",
    "        \n",
    "        cols_result,subset_result,top_result=Q4_function(functions_df)\n",
    "\n",
    "        self.assertEqual(cols_ans,list(cols_result))\n",
    "        self.assertEqual(subset_cols_ans,list(subset_result.columns))\n",
    "        self.assertEqual(top_ans,len(top_result))\n",
    "        \n",
    "        \n",
    "    def test_Q07_function(self):\n",
    "        \n",
    "        ans=(14.83,2.19,13.46,14.66,16.62,18.5,10.83) \n",
    "        result=Q7_function(file=\"Exceptions\")\n",
    "        self.assertEqual(ans, result)\n",
    "\n",
    "        \n",
    "    def test_Q12_function(self):\n",
    "        ans=[3, 4, 7, 8, 12, 18]  \n",
    "        result=Q12_function(Q11_df)\n",
    "        self.assertEqual(ans, result)\n",
    "        \n",
    "    def test_Q13_function(self):\n",
    "        ans = [[15, 16, 17, 18], [12, 13, 14], [5, 6, 7, 8, 9, 10, 11], [3, 4], [0, 1, 2]]\n",
    "        temp = Q13_function(Q6_df)\n",
    "        result = [temp.iloc[x] for x in range(len(temp))]\n",
    "        \n",
    "        for x in range(len(ans)):\n",
    "            self.assertEqual(sum(result[x]), sum(ans[x]))\n",
    "                \n",
    "\n",
    "        \n",
    "unittest.main(argv=[''], verbosity=2, exit=False)"
   ]
  },
  {
   "cell_type": "code",
   "execution_count": null,
   "metadata": {},
   "outputs": [],
   "source": []
  }
 ],
 "metadata": {
  "celltoolbar": "Hide code",
  "hide_code_all_hidden": true,
  "kernelspec": {
   "display_name": "Python 3",
   "language": "python",
   "name": "python3"
  },
  "language_info": {
   "codemirror_mode": {
    "name": "ipython",
    "version": 3
   },
   "file_extension": ".py",
   "mimetype": "text/x-python",
   "name": "python",
   "nbconvert_exporter": "python",
   "pygments_lexer": "ipython3",
   "version": "3.6.5"
  }
 },
 "nbformat": 4,
 "nbformat_minor": 2
}
